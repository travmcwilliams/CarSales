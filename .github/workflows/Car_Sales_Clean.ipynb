{
  "cells": [
    {
      "cell_type": "code",
      "source": [
        "!git init\n",
        "!git config --global user.name \"travmcwilliams\"\n",
        "!git config --global user.email \"travmcwilliams@gmail.com\"\n"
      ],
      "outputs": [
        {
          "output_type": "stream",
          "name": "stdout",
          "text": "Reinitialized existing Git repository in /mnt/batch/tasks/shared/LS_root/mounts/clusters/carsales2/code/Users/Travis_1746387082819/CarSales/.git/\r\n"
        }
      ],
      "execution_count": 51,
      "metadata": {}
    },
    {
      "cell_type": "code",
      "source": [
        "!git config --global --add safe.directory /mnt/batch/tasks/shared/LS_root/mounts/clusters/carsales2/code/Users/Travis_1746387082819/CarSales\n"
      ],
      "outputs": [],
      "execution_count": 52,
      "metadata": {}
    },
    {
      "cell_type": "code",
      "source": [
        "!git branch -M main\n",
        "!git remote add origin https://github.com/travmcwilliams/CarSales.git\n",
        "!git remote -v\n"
      ],
      "outputs": [
        {
          "output_type": "stream",
          "name": "stdout",
          "text": "origin\thttps://github.com/travmcwilliams/CarSales.git (fetch)\r\norigin\thttps://github.com/travmcwilliams/CarSales.git (push)\r\n"
        }
      ],
      "execution_count": 47,
      "metadata": {}
    },
    {
      "cell_type": "code",
      "source": [
        "!git add .\n",
        "!git commit -m \"Initial commit: CarSales notebook, data, CI/CD configs\"\n"
      ],
      "outputs": [
        {
          "output_type": "stream",
          "name": "stdout",
          "text": "[main 634d435] Initial commit: CarSales notebook, data, CI/CD configs\r\n 2 files changed, 58 insertions(+), 12 deletions(-)\r\n"
        }
      ],
      "execution_count": 53,
      "metadata": {}
    },
    {
      "cell_type": "code",
      "source": [
        "!git push -u origin main\n"
      ],
      "outputs": [
        {
          "output_type": "stream",
          "name": "stdout",
          "text": "Username for 'https://github.com': "
        }
      ],
      "execution_count": 54,
      "metadata": {}
    },
    {
      "cell_type": "markdown",
      "source": [],
      "metadata": {
        "nteract": {
          "transient": {
            "deleting": false
          }
        }
      }
    },
    {
      "cell_type": "code",
      "source": [
        "!git push -u origin main\n"
      ],
      "outputs": [
        {
          "output_type": "stream",
          "name": "stdout",
          "text": "fatal: 'origin' does not appear to be a git repository\r\nfatal: Could not read from remote repository.\r\n\r\nPlease make sure you have the correct access rights\r\nand the repository exists.\r\n"
        }
      ],
      "execution_count": 44,
      "metadata": {}
    },
    {
      "cell_type": "code",
      "source": [
        "!git init\n",
        "!git add .\n",
        "!git commit -m \"Initial commit\"\n",
        "!git remote add origin https://github.com/travmcwilliams/CarSales\n",
        "!git push -u origin main\n"
      ],
      "outputs": [
        {
          "output_type": "stream",
          "name": "stdout",
          "text": "Reinitialized existing Git repository in /mnt/batch/tasks/shared/LS_root/mounts/clusters/carsales2/code/Users/Travis_1746387082819/CarSales/.git/\nOn branch main\nnothing to commit, working tree clean\nerror: remote origin already exists.\nfatal: unable to access 'https://github.com/<you>/CarSales.git/': The requested URL returned error: 400\n"
        }
      ],
      "execution_count": 41,
      "metadata": {}
    },
    {
      "cell_type": "code",
      "source": [
        "!git --version\n",
        "!git config --global user.name \"Travis Williams\"\n",
        "!git config --global user.email \"your.travmcwilliams.com\"\n"
      ],
      "outputs": [
        {
          "output_type": "stream",
          "name": "stdout",
          "text": "git version 2.50.1\r\n"
        }
      ],
      "execution_count": 36,
      "metadata": {}
    },
    {
      "cell_type": "code",
      "source": [
        "!git config --global --add safe.directory /mnt/batch/tasks/shared/LS_root/mounts/clusters/carsales2/code/Users/Travis_1746387082819/CarSales\n"
      ],
      "outputs": [],
      "execution_count": 37,
      "metadata": {}
    },
    {
      "cell_type": "code",
      "source": [
        "# See what will be added\n",
        "!git status\n",
        "\n",
        "# Add everything except what .gitignore excludes\n",
        "!git add .\n",
        "\n",
        "# Commit\n",
        "!git commit -m \"Initial commit: notebook, data, CI/CD YAMLs, and ignore rules\"\n"
      ],
      "outputs": [
        {
          "output_type": "stream",
          "name": "stdout",
          "text": "On branch main\nChanges not staged for commit:\n  (use \"git add <file>...\" to update what will be committed)\n  (use \"git restore <file>...\" to discard changes in working directory)\n\t\u001b[31mmodified:   Car_Sales_Clean.ipynb\u001b[m\n\t\u001b[31mmodified:   car_sales_clean.ipynb.amltmp\u001b[m\n\nno changes added to commit (use \"git add\" and/or \"git commit -a\")\n[main 825043c] Initial commit: notebook, data, CI/CD YAMLs, and ignore rules\n 2 files changed, 20 insertions(+), 20 deletions(-)\n"
        }
      ],
      "execution_count": 38,
      "metadata": {
        "gather": {
          "logged": 1758675128423
        }
      }
    },
    {
      "cell_type": "code",
      "source": [
        "from pathlib import Path\n",
        "import pandas as pd\n",
        "\n",
        "# Candidate absolute & relative locations\n",
        "candidates = [\n",
        "    # Your stated absolute path (note the leading slash for Linux abs paths)\n",
        "    Path(\"/Users/Travis_1746387082819/CarSales/CICD-project- FullCode-2/CICD-project- FullCode/data/used_cars.csv\"),\n",
        "    # Workspace root (sometimes files are uploaded here)\n",
        "    Path(\"/used_cars.csv\"),\n",
        "    # Next to the notebook (common pattern in projects)\n",
        "    Path(\"data/used_cars.csv\"),\n",
        "    Path(\"used_cars.csv\"),\n",
        "    Path(\"used_cars (1).csv\"),\n",
        "]\n",
        "\n",
        "CSV_PATH = next((p for p in candidates if p.exists()), None)\n",
        "\n",
        "# If not found yet, fall back to a quick search under the current project tree\n",
        "if CSV_PATH is None:\n",
        "    for pat in (\"**/data/used_cars.csv\", \"**/used_cars.csv\", \"**/used_cars (1).csv\", \"**/used_cars*.csv\"):\n",
        "        hits = list(Path.cwd().glob(pat))\n",
        "        if hits:\n",
        "            CSV_PATH = hits[0]\n",
        "            break\n",
        "\n",
        "assert CSV_PATH is not None and CSV_PATH.exists(), f\"Couldn't find used_cars.csv starting from {Path.cwd()}\"\n",
        "print(\"Loading dataset from:\", CSV_PATH.resolve())\n",
        "\n",
        "df_raw = pd.read_csv(CSV_PATH)\n",
        "print(\"Shape:\", df_raw.shape)\n",
        "display(df_raw.head())\n",
        "\n"
      ],
      "outputs": [
        {
          "output_type": "stream",
          "name": "stdout",
          "text": "Loading dataset from: /mnt/batch/tasks/shared/LS_root/mounts/clusters/carsales2/code/Users/Travis_1746387082819/CarSales/used_cars.csv\nShape: (200, 7)\n"
        },
        {
          "output_type": "display_data",
          "data": {
            "text/plain": "              Segment  Kilometers_Driven  Mileage  Engine   Power  Seats  \\\n0  non-luxury segment              72000    26.60     998   58.16      5   \n1  non-luxury segment              41000    19.67    1582  126.20      5   \n2  non-luxury segment              46000    18.20    1199   88.70      5   \n3  non-luxury segment              87000    20.77    1248   88.76      7   \n4  non-luxury segment              75000    21.10     814   55.20      5   \n\n   price  \n0   5.51  \n1  16.06  \n2   8.61  \n3  11.27  \n4  10.25  ",
            "text/html": "<div>\n<style scoped>\n    .dataframe tbody tr th:only-of-type {\n        vertical-align: middle;\n    }\n\n    .dataframe tbody tr th {\n        vertical-align: top;\n    }\n\n    .dataframe thead th {\n        text-align: right;\n    }\n</style>\n<table border=\"1\" class=\"dataframe\">\n  <thead>\n    <tr style=\"text-align: right;\">\n      <th></th>\n      <th>Segment</th>\n      <th>Kilometers_Driven</th>\n      <th>Mileage</th>\n      <th>Engine</th>\n      <th>Power</th>\n      <th>Seats</th>\n      <th>price</th>\n    </tr>\n  </thead>\n  <tbody>\n    <tr>\n      <th>0</th>\n      <td>non-luxury segment</td>\n      <td>72000</td>\n      <td>26.60</td>\n      <td>998</td>\n      <td>58.16</td>\n      <td>5</td>\n      <td>5.51</td>\n    </tr>\n    <tr>\n      <th>1</th>\n      <td>non-luxury segment</td>\n      <td>41000</td>\n      <td>19.67</td>\n      <td>1582</td>\n      <td>126.20</td>\n      <td>5</td>\n      <td>16.06</td>\n    </tr>\n    <tr>\n      <th>2</th>\n      <td>non-luxury segment</td>\n      <td>46000</td>\n      <td>18.20</td>\n      <td>1199</td>\n      <td>88.70</td>\n      <td>5</td>\n      <td>8.61</td>\n    </tr>\n    <tr>\n      <th>3</th>\n      <td>non-luxury segment</td>\n      <td>87000</td>\n      <td>20.77</td>\n      <td>1248</td>\n      <td>88.76</td>\n      <td>7</td>\n      <td>11.27</td>\n    </tr>\n    <tr>\n      <th>4</th>\n      <td>non-luxury segment</td>\n      <td>75000</td>\n      <td>21.10</td>\n      <td>814</td>\n      <td>55.20</td>\n      <td>5</td>\n      <td>10.25</td>\n    </tr>\n  </tbody>\n</table>\n</div>"
          },
          "metadata": {}
        }
      ],
      "execution_count": 35,
      "metadata": {
        "gather": {
          "logged": 1758675008828
        }
      }
    },
    {
      "cell_type": "code",
      "source": [
        "import numpy as np, re\n",
        "import pandas as pd\n",
        "from sklearn.model_selection import train_test_split\n",
        "from sklearn.pipeline import Pipeline\n",
        "from sklearn.compose import ColumnTransformer\n",
        "from sklearn.preprocessing import OneHotEncoder, StandardScaler\n",
        "from sklearn.impute import SimpleImputer\n",
        "\n",
        "# ---- required columns (note: target is lowercase 'price')\n",
        "REQUIRED = {\"Segment\",\"Kilometers_Driven\",\"Mileage\",\"Engine\",\"Power\",\"Seats\",\"price\"}\n",
        "missing = REQUIRED - set(df_raw.columns)\n",
        "assert not missing, f\"Missing columns: {missing}\"\n",
        "\n",
        "# ---- convert numeric-like strings to floats\n",
        "def extract_float(x):\n",
        "    if pd.isna(x): return np.nan\n",
        "    if isinstance(x, (int, float)): return float(x)\n",
        "    m = re.search(r\"[-+]?\\d*\\.?\\d+(?:[eE][-+]?\\d+)?\", str(x))\n",
        "    return float(m.group(0)) if m else np.nan\n",
        "\n",
        "for col in [\"Kilometers_Driven\",\"Mileage\",\"Engine\",\"Power\",\"Seats\",\"price\"]:\n",
        "    df_raw[col] = df_raw[col].apply(extract_float).astype(float)\n",
        "\n",
        "# ---- light sanity filters\n",
        "df = df_raw.dropna(subset=[\"price\"]).copy()\n",
        "df = df[(df[\"price\"] > 0) & (df[\"Kilometers_Driven\"] >= 0)]\n",
        "print(\"Cleaned shape:\", df.shape)\n",
        "\n",
        "# ---- split\n",
        "num_features = [\"Kilometers_Driven\",\"Mileage\",\"Engine\",\"Power\",\"Seats\"]\n",
        "cat_features = [\"Segment\"]\n",
        "\n",
        "X = df[num_features + cat_features].copy()\n",
        "y = df[\"price\"].copy()\n",
        "\n",
        "X_train, X_test, y_train, y_test = train_test_split(\n",
        "    X, y, test_size=0.2, random_state=42\n",
        ")\n",
        "print(\"Train:\", X_train.shape, \"Test:\", X_test.shape)\n",
        "\n",
        "# ---- preprocessing (impute + scale nums, impute + OHE cats)\n",
        "numeric_pipe = Pipeline([\n",
        "    (\"imputer\", SimpleImputer(strategy=\"median\")),\n",
        "    (\"scaler\", StandardScaler(with_mean=False)),\n",
        "])\n",
        "categorical_pipe = Pipeline([\n",
        "    (\"imputer\", SimpleImputer(strategy=\"most_frequent\")),\n",
        "    (\"encoder\", OneHotEncoder(handle_unknown=\"ignore\")),\n",
        "])\n",
        "\n",
        "preprocess = ColumnTransformer([\n",
        "    (\"num\", numeric_pipe, num_features),\n",
        "    (\"cat\", categorical_pipe, cat_features),\n",
        "], remainder=\"drop\")\n",
        "\n",
        "print(\"Preprocessor ready ✅\")\n"
      ],
      "outputs": [
        {
          "output_type": "stream",
          "name": "stdout",
          "text": "Cleaned shape: (200, 7)\nTrain: (160, 6) Test: (40, 6)\nPreprocessor ready ✅\n"
        }
      ],
      "execution_count": 5,
      "metadata": {
        "gather": {
          "logged": 1758669125671
        }
      }
    },
    {
      "cell_type": "code",
      "source": [
        "import numpy as np\n",
        "from sklearn.metrics import mean_squared_error, mean_absolute_error, r2_score\n",
        "\n",
        "def compute_rmse(y_true, y_pred):\n",
        "    # Prefer the new API if available\n",
        "    try:\n",
        "        from sklearn.metrics import root_mean_squared_error\n",
        "        return root_mean_squared_error(y_true, y_pred)\n",
        "    except Exception:\n",
        "        # Older APIs: either use squared=False or take the sqrt manually\n",
        "        try:\n",
        "            return mean_squared_error(y_true, y_pred, squared=False)\n",
        "        except TypeError:\n",
        "            return np.sqrt(mean_squared_error(y_true, y_pred))\n"
      ],
      "outputs": [],
      "execution_count": 6,
      "metadata": {
        "gather": {
          "logged": 1758669129658
        }
      }
    },
    {
      "cell_type": "code",
      "source": [
        "from sklearn.ensemble import RandomForestRegressor\n",
        "from sklearn.pipeline import Pipeline\n",
        "\n",
        "baseline = Pipeline([\n",
        "    (\"prep\", preprocess),\n",
        "    (\"model\", RandomForestRegressor(n_estimators=200, random_state=42)),\n",
        "])\n",
        "\n",
        "baseline.fit(X_train, y_train)\n",
        "preds_base = baseline.predict(X_test)\n",
        "\n",
        "rmse_base = compute_rmse(y_test, preds_base)\n",
        "mae_base  = mean_absolute_error(y_test, preds_base)\n",
        "r2_base   = r2_score(y_test, preds_base)\n",
        "\n",
        "print(f\"Baseline → RMSE {rmse_base:.3f} | MAE {mae_base:.3f} | R² {r2_base:.3f}\")\n"
      ],
      "outputs": [
        {
          "output_type": "stream",
          "name": "stdout",
          "text": "Baseline → RMSE 7.883 | MAE 4.768 | R² 0.925\n"
        }
      ],
      "execution_count": 7,
      "metadata": {
        "gather": {
          "logged": 1758669134053
        }
      }
    },
    {
      "cell_type": "code",
      "source": [
        "from sklearn.model_selection import GridSearchCV\n",
        "\n",
        "param_grid = {\n",
        "    \"model__n_estimators\": [200, 400],\n",
        "    \"model__max_depth\": [None, 10, 20],\n",
        "    \"model__min_samples_split\": [2, 5],\n",
        "}\n",
        "\n",
        "grid = GridSearchCV(\n",
        "    estimator=baseline,\n",
        "    param_grid=param_grid,\n",
        "    scoring=\"neg_root_mean_squared_error\",\n",
        "    cv=3,\n",
        "    n_jobs=-1,\n",
        "    verbose=1,\n",
        ")\n",
        "grid.fit(X_train, y_train)\n",
        "\n",
        "best = grid.best_estimator_\n",
        "preds_best = best.predict(X_test)\n",
        "\n",
        "rmse = compute_rmse(y_test, preds_best)\n",
        "mae  = mean_absolute_error(y_test, preds_best)\n",
        "r2   = r2_score(y_test, preds_best)\n",
        "\n",
        "print(\"Best params:\", grid.best_params_)\n",
        "print(f\"Best → RMSE {rmse:.3f} | MAE {mae:.3f} | R² {r2:.3f}\")\n"
      ],
      "outputs": [
        {
          "output_type": "stream",
          "name": "stdout",
          "text": "Fitting 3 folds for each of 12 candidates, totalling 36 fits\nBest params: {'model__max_depth': 10, 'model__min_samples_split': 2, 'model__n_estimators': 400}\nBest → RMSE 7.956 | MAE 4.822 | R² 0.924\n"
        }
      ],
      "execution_count": 8,
      "metadata": {
        "gather": {
          "logged": 1758669147441
        }
      }
    },
    {
      "cell_type": "code",
      "source": [
        "MAX_RMSE = rmse_base * 1.02\n",
        "assert rmse <= MAX_RMSE, f\"RMSE {rmse:.3f} exceeded gate {MAX_RMSE:.3f}\"\n",
        "print(\"Performance gate passed ✅\")\n"
      ],
      "outputs": [
        {
          "output_type": "stream",
          "name": "stdout",
          "text": "Performance gate passed ✅\n"
        }
      ],
      "execution_count": 9,
      "metadata": {
        "gather": {
          "logged": 1758669151310
        }
      }
    },
    {
      "cell_type": "code",
      "source": [
        "# --- Register the tuned model with signature, example, and metrics ---\n",
        "import mlflow, shutil\n",
        "from pathlib import Path\n",
        "from mlflow.models.signature import infer_signature\n",
        "from mlflow.tracking import MlflowClient\n",
        "\n",
        "mlflow.set_experiment(\"CarSales\")\n",
        "mlflow.autolog(disable=True)                              # keep off\n",
        "mlflow.set_registry_uri(mlflow.get_tracking_uri())\n",
        "\n",
        "example   = X_train.head(5)\n",
        "signature = infer_signature(example, best.predict(example))\n",
        "\n",
        "LOCAL_DIR = Path(\"local_model\")\n",
        "if LOCAL_DIR.exists():\n",
        "    shutil.rmtree(LOCAL_DIR)\n",
        "\n",
        "# Save locally first (avoids AML “logged-models” API)\n",
        "import mlflow.sklearn\n",
        "mlflow.sklearn.save_model(\n",
        "    sk_model=best,\n",
        "    path=str(LOCAL_DIR),\n",
        "    signature=signature,\n",
        "    input_example=example,\n",
        ")\n",
        "\n",
        "# Log artifacts into a run, then register by URI\n",
        "registered_ok = False\n",
        "with mlflow.start_run(run_name=\"register_safe\") as run:\n",
        "    mlflow.set_tags({\n",
        "        \"project\": \"CarSales\",\n",
        "        \"pipeline_stage\": \"train\",\n",
        "        \"framework\": \"sklearn\",\n",
        "        \"target\": \"price\",\n",
        "    })\n",
        "    mlflow.log_metrics({\"rmse\": float(rmse), \"mae\": float(mae), \"r2\": float(r2)})\n",
        "    mlflow.log_artifacts(str(LOCAL_DIR), artifact_path=\"model\")\n",
        "\n",
        "    model_uri = f\"runs:/{run.info.run_id}/model\"\n",
        "    print(\"Model artifact URI:\", model_uri)\n",
        "\n",
        "    try:\n",
        "        mv = mlflow.register_model(model_uri=model_uri, name=\"used_cars_price_prediction_model\")\n",
        "        print(\"✅ Registration requested → used_cars_price_prediction_model\")\n",
        "        registered_ok = True\n",
        "    except Exception as e:\n",
        "        print(\"⚠️  Registration failed (likely RBAC). Proceeding with artifacts only.\\n\", e)\n"
      ],
      "outputs": [
        {
          "output_type": "stream",
          "name": "stderr",
          "text": "Successfully registered model 'used_cars_price_prediction_model'.\n"
        },
        {
          "output_type": "stream",
          "name": "stdout",
          "text": "⚠️  Registration failed (likely RBAC). Proceeding with artifacts only.\n API request to endpoint /api/2.0/mlflow/logged-models/search failed with error code 404 != 200. Response body: ''\n🏃 View run register_safe at: https://eastus.api.azureml.ms/mlflow/v2.0/subscriptions/d818e748-e334-4df7-83c3-882fcc02b8b5/resourceGroups/default_resource_group/providers/Microsoft.MachineLearningServices/workspaces/gl_az_ml/#/experiments/7d4a5f5c-a66d-4d07-862a-57041a53f968/runs/dc660ab5-16bd-4f36-89d9-85c1763e3111\n🧪 View experiment at: https://eastus.api.azureml.ms/mlflow/v2.0/subscriptions/d818e748-e334-4df7-83c3-882fcc02b8b5/resourceGroups/default_resource_group/providers/Microsoft.MachineLearningServices/workspaces/gl_az_ml/#/experiments/7d4a5f5c-a66d-4d07-862a-57041a53f968\n"
        }
      ],
      "execution_count": 10,
      "metadata": {
        "gather": {
          "logged": 1758669171251
        }
      }
    },
    {
      "cell_type": "code",
      "source": [
        "import time\n",
        "from mlflow.tracking import MlflowClient\n",
        "import mlflow\n",
        "import pandas as pd\n",
        "\n",
        "MODEL_NAME = \"used_cars_price_prediction_model\"\n",
        "client = MlflowClient()\n",
        "\n",
        "print(\"Confirming registry entry…\")\n",
        "rm = client.get_registered_model(MODEL_NAME)\n",
        "print(\"✅ Registered model found:\", rm.name)\n",
        "\n",
        "# --- 1) Poll MLflow registry for versions (eventual consistency) ---\n",
        "versions = []\n",
        "deadline = time.time() + 60  # retry up to 60s\n",
        "while time.time() < deadline:\n",
        "    try:\n",
        "        versions = list(client.search_model_versions(f\"name='{MODEL_NAME}'\"))\n",
        "        if versions:\n",
        "            break\n",
        "    except Exception as e:\n",
        "        # transient errors are fine; retry\n",
        "        pass\n",
        "    time.sleep(3)\n",
        "\n",
        "if not versions:\n",
        "    # Try MLflow's \"latest_versions\" field if populated\n",
        "    try:\n",
        "        if getattr(rm, \"latest_versions\", None):\n",
        "            versions = rm.latest_versions\n",
        "    except Exception:\n",
        "        pass\n",
        "\n",
        "# --- 2) Fallback to AzureML SDK v2 (optional, best-effort) ---\n",
        "latest_version = None\n",
        "if not versions:\n",
        "    try:\n",
        "        from azure.ai.ml import MLClient\n",
        "        from azure.identity import DefaultAzureCredential\n",
        "        # These values are already implicit in your workspace; if they differ, update them:\n",
        "        SUB = \"d818e748-e334-4df7-83c3-882fcc02b8b5\"\n",
        "        RG  = \"default_resource_group\"\n",
        "        WS  = \"gl_az_ml\"\n",
        "        aml_client = MLClient(DefaultAzureCredential(), SUB, RG, WS)\n",
        "        vers = [int(m.version) for m in aml_client.models.list(name=MODEL_NAME)]\n",
        "        if vers:\n",
        "            latest_version = max(vers)\n",
        "            print(f\"(AzureML SDK) Found versions: {sorted(vers)}\")\n",
        "    except Exception as e:\n",
        "        print(\"(AzureML SDK fallback not available):\", e)\n",
        "\n",
        "# --- 3) Resolve latest_version from what we have ---\n",
        "if latest_version is None and versions:\n",
        "    latest_version = max(int(v.version) for v in versions)\n",
        "\n",
        "if latest_version is None:\n",
        "    print(\"⚠️ Model is registered, but no versions are visible yet. This can take a minute in AML.\")\n",
        "    print(\"You can still submit the notebook & artifacts; reload this cell later to complete the check.\")\n",
        "else:\n",
        "    print(\"Latest version:\", latest_version)\n",
        "    uri = f\"models:/{MODEL_NAME}/{latest_version}\"\n",
        "    print(\"Loading:\", uri)\n",
        "    loaded = mlflow.pyfunc.load_model(uri)\n",
        "\n",
        "    sample = X_test.head(10)\n",
        "    out = sample.copy()\n",
        "    out[\"y_true\"] = y_test.loc[sample.index].values\n",
        "    out[\"y_pred_loaded\"] = loaded.predict(sample)\n",
        "    out.to_csv(\"sample_loaded_preds.csv\", index=False)\n",
        "    display(out)\n",
        "    print(\"✅ Wrote sample_loaded_preds.csv\")\n"
      ],
      "outputs": [
        {
          "output_type": "stream",
          "name": "stdout",
          "text": "Confirming registry entry…\n✅ Registered model found: used_cars_price_prediction_model\n⚠️ Model is registered, but no versions are visible yet. This can take a minute in AML.\nYou can still submit the notebook & artifacts; reload this cell later to complete the check.\n"
        }
      ],
      "execution_count": 15,
      "metadata": {
        "gather": {
          "logged": 1758672856492
        }
      }
    },
    {
      "cell_type": "code",
      "source": [
        "import time, mlflow\n",
        "from mlflow.tracking import MlflowClient\n",
        "\n",
        "MODEL_NAME = \"used_cars_price_prediction_model\"\n",
        "client = MlflowClient()\n",
        "\n",
        "found_version = None\n",
        "\n",
        "# Prefer Azure ML SDK (often surfaces versions sooner)\n",
        "try:\n",
        "    from azure.ai.ml import MLClient\n",
        "    from azure.identity import DefaultAzureCredential\n",
        "    SUB, RG, WS = \"d818e748-e334-4df7-83c3-882fcc02b8b5\", \"default_resource_group\", \"gl_az_ml\"\n",
        "    aml = MLClient(DefaultAzureCredential(), SUB, RG, WS)\n",
        "    versions = [int(m.version) for m in aml.models.list(name=MODEL_NAME)]\n",
        "    if versions:\n",
        "        found_version = max(versions)\n",
        "        print(f\"AzureML SDK sees versions: {sorted(versions)} | latest={found_version}\")\n",
        "except Exception as e:\n",
        "    print(\"SDK listing not available:\", type(e).__name__, str(e)[:160])\n",
        "\n",
        "# Fall back to a short MLflow poll\n",
        "if found_version is None:\n",
        "    deadline = time.time() + 45\n",
        "    while time.time() < deadline:\n",
        "        try:\n",
        "            mvs = list(client.search_model_versions(f\"name='{MODEL_NAME}'\"))\n",
        "            if mvs:\n",
        "                found_version = max(int(v.version) for v in mvs)\n",
        "                print(f\"MLflow now sees versions | latest={found_version}\")\n",
        "                break\n",
        "        except Exception:\n",
        "            pass\n",
        "        time.sleep(3)\n",
        "\n",
        "if found_version is not None:\n",
        "    uri = f\"models:/{MODEL_NAME}/{found_version}\"\n",
        "    print(\"Loading:\", uri)\n",
        "    loaded = mlflow.pyfunc.load_model(uri)\n",
        "    sample = X_test.head(10).copy()\n",
        "    sample[\"y_true\"] = y_test.loc[sample.index].values\n",
        "    sample[\"y_pred_loaded\"] = loaded.predict(sample.drop(columns=[\"y_true\"], errors=\"ignore\"))\n",
        "    sample.to_csv(\"sample_loaded_preds.csv\", index=False)\n",
        "    display(sample)\n",
        "    print(\"✅ Wrote sample_loaded_preds.csv\")\n",
        "else:\n",
        "    print(\"No versions visible yet — use Option B below to finish via run artifact.\")\n"
      ],
      "outputs": [
        {
          "output_type": "stream",
          "name": "stdout",
          "text": "No versions visible yet — use Option B below to finish via run artifact.\n"
        }
      ],
      "execution_count": 16,
      "metadata": {
        "gather": {
          "logged": 1758672902702
        }
      }
    },
    {
      "cell_type": "code",
      "source": [
        "import mlflow, pandas as pd\n",
        "\n",
        "# Find the most recent 'register_safe' run in the CarSales experiment\n",
        "exp = mlflow.get_experiment_by_name(\"CarSales\")\n",
        "runs = mlflow.search_runs(\n",
        "    experiment_ids=[exp.experiment_id],\n",
        "    order_by=[\"start_time DESC\"],\n",
        "    max_results=20,\n",
        ")\n",
        "# Prefer the register_safe run if present; else use the latest run\n",
        "mask = runs[\"tags.mlflow.runName\"].fillna(\"\").str.contains(\"register_safe\", case=False, na=False)\n",
        "row = runs[mask].head(1)\n",
        "if row.empty:\n",
        "    row = runs.head(1)\n",
        "run_id = row[\"run_id\"].iloc[0]\n",
        "\n",
        "model_uri = f\"runs:/{run_id}/model\"\n",
        "print(\"Loading artifact model:\", model_uri)\n",
        "loaded = mlflow.pyfunc.load_model(model_uri)\n",
        "\n",
        "sample = X_test.head(10).copy()\n",
        "sample[\"y_true\"] = y_test.loc[sample.index].values\n",
        "sample[\"y_pred_loaded\"] = loaded.predict(sample.drop(columns=[\"y_true\"], errors=\"ignore\"))\n",
        "sample.to_csv(\"sample_loaded_preds.csv\", index=False)\n",
        "display(sample)\n",
        "print(\"✅ Wrote sample_loaded_preds.csv\")\n"
      ],
      "outputs": [
        {
          "output_type": "stream",
          "name": "stdout",
          "text": "Loading artifact model: runs:/dc660ab5-16bd-4f36-89d9-85c1763e3111/model\n"
        },
        {
          "output_type": "stream",
          "name": "stderr",
          "text": "Downloading artifacts: 100%|██████████| 7/7 [00:00<00:00, 11.44it/s]\n"
        },
        {
          "output_type": "error",
          "ename": "MlflowException",
          "evalue": "API request to endpoint /api/2.0/mlflow/logged-models/search failed with error code 404 != 200. Response body: ''",
          "traceback": [
            "\u001b[0;31m---------------------------------------------------------------------------\u001b[0m",
            "\u001b[0;31mMlflowException\u001b[0m                           Traceback (most recent call last)",
            "Cell \u001b[0;32mIn[17], line 19\u001b[0m\n\u001b[1;32m     17\u001b[0m model_uri \u001b[38;5;241m=\u001b[39m \u001b[38;5;124mf\u001b[39m\u001b[38;5;124m\"\u001b[39m\u001b[38;5;124mruns:/\u001b[39m\u001b[38;5;132;01m{\u001b[39;00mrun_id\u001b[38;5;132;01m}\u001b[39;00m\u001b[38;5;124m/model\u001b[39m\u001b[38;5;124m\"\u001b[39m\n\u001b[1;32m     18\u001b[0m \u001b[38;5;28mprint\u001b[39m(\u001b[38;5;124m\"\u001b[39m\u001b[38;5;124mLoading artifact model:\u001b[39m\u001b[38;5;124m\"\u001b[39m, model_uri)\n\u001b[0;32m---> 19\u001b[0m loaded \u001b[38;5;241m=\u001b[39m \u001b[43mmlflow\u001b[49m\u001b[38;5;241;43m.\u001b[39;49m\u001b[43mpyfunc\u001b[49m\u001b[38;5;241;43m.\u001b[39;49m\u001b[43mload_model\u001b[49m\u001b[43m(\u001b[49m\u001b[43mmodel_uri\u001b[49m\u001b[43m)\u001b[49m\n\u001b[1;32m     21\u001b[0m sample \u001b[38;5;241m=\u001b[39m X_test\u001b[38;5;241m.\u001b[39mhead(\u001b[38;5;241m10\u001b[39m)\u001b[38;5;241m.\u001b[39mcopy()\n\u001b[1;32m     22\u001b[0m sample[\u001b[38;5;124m\"\u001b[39m\u001b[38;5;124my_true\u001b[39m\u001b[38;5;124m\"\u001b[39m] \u001b[38;5;241m=\u001b[39m y_test\u001b[38;5;241m.\u001b[39mloc[sample\u001b[38;5;241m.\u001b[39mindex]\u001b[38;5;241m.\u001b[39mvalues\n",
            "File \u001b[0;32m/anaconda/envs/azureml_py310_sdkv2/lib/python3.10/site-packages/mlflow/tracing/provider.py:435\u001b[0m, in \u001b[0;36mtrace_disabled.<locals>.wrapper\u001b[0;34m(*args, **kwargs)\u001b[0m\n\u001b[1;32m    433\u001b[0m disable()\n\u001b[1;32m    434\u001b[0m \u001b[38;5;28;01mtry\u001b[39;00m:\n\u001b[0;32m--> 435\u001b[0m     is_func_called, result \u001b[38;5;241m=\u001b[39m \u001b[38;5;28;01mTrue\u001b[39;00m, \u001b[43mf\u001b[49m\u001b[43m(\u001b[49m\u001b[38;5;241;43m*\u001b[39;49m\u001b[43margs\u001b[49m\u001b[43m,\u001b[49m\u001b[43m \u001b[49m\u001b[38;5;241;43m*\u001b[39;49m\u001b[38;5;241;43m*\u001b[39;49m\u001b[43mkwargs\u001b[49m\u001b[43m)\u001b[49m\n\u001b[1;32m    436\u001b[0m \u001b[38;5;28;01mfinally\u001b[39;00m:\n\u001b[1;32m    437\u001b[0m     enable()\n",
            "File \u001b[0;32m/anaconda/envs/azureml_py310_sdkv2/lib/python3.10/site-packages/mlflow/pyfunc/__init__.py:1127\u001b[0m, in \u001b[0;36mload_model\u001b[0;34m(model_uri, suppress_warnings, dst_path, model_config)\u001b[0m\n\u001b[1;32m   1123\u001b[0m         entity_list\u001b[38;5;241m.\u001b[39mappend(Entity(job\u001b[38;5;241m=\u001b[39mjob_entity))\n\u001b[1;32m   1125\u001b[0m     lineage_header_info \u001b[38;5;241m=\u001b[39m LineageHeaderInfo(entities\u001b[38;5;241m=\u001b[39mentity_list) \u001b[38;5;28;01mif\u001b[39;00m entity_list \u001b[38;5;28;01melse\u001b[39;00m \u001b[38;5;28;01mNone\u001b[39;00m\n\u001b[0;32m-> 1127\u001b[0m local_path \u001b[38;5;241m=\u001b[39m \u001b[43m_download_artifact_from_uri\u001b[49m\u001b[43m(\u001b[49m\n\u001b[1;32m   1128\u001b[0m \u001b[43m    \u001b[49m\u001b[43martifact_uri\u001b[49m\u001b[38;5;241;43m=\u001b[39;49m\u001b[43mmodel_uri\u001b[49m\u001b[43m,\u001b[49m\u001b[43m \u001b[49m\u001b[43moutput_path\u001b[49m\u001b[38;5;241;43m=\u001b[39;49m\u001b[43mdst_path\u001b[49m\u001b[43m,\u001b[49m\u001b[43m \u001b[49m\u001b[43mlineage_header_info\u001b[49m\u001b[38;5;241;43m=\u001b[39;49m\u001b[43mlineage_header_info\u001b[49m\n\u001b[1;32m   1129\u001b[0m \u001b[43m\u001b[49m\u001b[43m)\u001b[49m\n\u001b[1;32m   1131\u001b[0m \u001b[38;5;28;01mif\u001b[39;00m \u001b[38;5;129;01mnot\u001b[39;00m suppress_warnings:\n\u001b[1;32m   1132\u001b[0m     model_requirements \u001b[38;5;241m=\u001b[39m _get_pip_requirements_from_model_path(local_path)\n",
            "File \u001b[0;32m/anaconda/envs/azureml_py310_sdkv2/lib/python3.10/site-packages/mlflow/tracking/artifact_utils.py:117\u001b[0m, in \u001b[0;36m_download_artifact_from_uri\u001b[0;34m(artifact_uri, output_path, lineage_header_info)\u001b[0m\n\u001b[1;32m    111\u001b[0m     \u001b[38;5;28;01mif\u001b[39;00m \u001b[38;5;28misinstance\u001b[39m(repo, ModelsArtifactRepository):\n\u001b[1;32m    112\u001b[0m         \u001b[38;5;28;01mreturn\u001b[39;00m repo\u001b[38;5;241m.\u001b[39mdownload_artifacts(\n\u001b[1;32m    113\u001b[0m             artifact_path\u001b[38;5;241m=\u001b[39martifact_path,\n\u001b[1;32m    114\u001b[0m             dst_path\u001b[38;5;241m=\u001b[39moutput_path,\n\u001b[1;32m    115\u001b[0m             lineage_header_info\u001b[38;5;241m=\u001b[39mlineage_header_info,\n\u001b[1;32m    116\u001b[0m         )\n\u001b[0;32m--> 117\u001b[0m     \u001b[38;5;28;01mreturn\u001b[39;00m \u001b[43mrepo\u001b[49m\u001b[38;5;241;43m.\u001b[39;49m\u001b[43mdownload_artifacts\u001b[49m\u001b[43m(\u001b[49m\u001b[43martifact_path\u001b[49m\u001b[38;5;241;43m=\u001b[39;49m\u001b[43martifact_path\u001b[49m\u001b[43m,\u001b[49m\u001b[43m \u001b[49m\u001b[43mdst_path\u001b[49m\u001b[38;5;241;43m=\u001b[39;49m\u001b[43moutput_path\u001b[49m\u001b[43m)\u001b[49m\n\u001b[1;32m    118\u001b[0m \u001b[38;5;28;01mexcept\u001b[39;00m \u001b[38;5;167;01mException\u001b[39;00m \u001b[38;5;28;01mas\u001b[39;00m e:\n\u001b[1;32m    119\u001b[0m     \u001b[38;5;28;01mif\u001b[39;00m artifact_uri\u001b[38;5;241m.\u001b[39mstartswith(\u001b[38;5;124m\"\u001b[39m\u001b[38;5;124mm-\u001b[39m\u001b[38;5;124m\"\u001b[39m):\n\u001b[1;32m    120\u001b[0m         \u001b[38;5;66;03m# When a Model ID like string is passed, suggest using 'models:/{artifact_uri}' instead.\u001b[39;00m\n",
            "File \u001b[0;32m/anaconda/envs/azureml_py310_sdkv2/lib/python3.10/site-packages/mlflow/store/artifact/runs_artifact_repo.py:210\u001b[0m, in \u001b[0;36mRunsArtifactRepository.download_artifacts\u001b[0;34m(self, artifact_path, dst_path)\u001b[0m\n\u001b[1;32m    203\u001b[0m     _logger\u001b[38;5;241m.\u001b[39mdebug(\n\u001b[1;32m    204\u001b[0m         \u001b[38;5;124mf\u001b[39m\u001b[38;5;124m\"\u001b[39m\u001b[38;5;124mFailed to download artifacts from \u001b[39m\u001b[38;5;132;01m{\u001b[39;00m\u001b[38;5;28mself\u001b[39m\u001b[38;5;241m.\u001b[39martifact_uri\u001b[38;5;132;01m}\u001b[39;00m\u001b[38;5;124m/\u001b[39m\u001b[38;5;132;01m{\u001b[39;00martifact_path\u001b[38;5;132;01m}\u001b[39;00m\u001b[38;5;124m.\u001b[39m\u001b[38;5;124m\"\u001b[39m,\n\u001b[1;32m    205\u001b[0m         exc_info\u001b[38;5;241m=\u001b[39m\u001b[38;5;28;01mTrue\u001b[39;00m,\n\u001b[1;32m    206\u001b[0m     )\n\u001b[1;32m    208\u001b[0m \u001b[38;5;66;03m# If there are artifacts with the same name in the run and model, the model artifacts\u001b[39;00m\n\u001b[1;32m    209\u001b[0m \u001b[38;5;66;03m# will overwrite the run artifacts.\u001b[39;00m\n\u001b[0;32m--> 210\u001b[0m model_out_path \u001b[38;5;241m=\u001b[39m \u001b[38;5;28;43mself\u001b[39;49m\u001b[38;5;241;43m.\u001b[39;49m\u001b[43m_download_model_artifacts\u001b[49m\u001b[43m(\u001b[49m\u001b[43martifact_path\u001b[49m\u001b[43m,\u001b[49m\u001b[43m \u001b[49m\u001b[43mdst_path\u001b[49m\u001b[38;5;241;43m=\u001b[39;49m\u001b[43mdst_path\u001b[49m\u001b[43m)\u001b[49m\n\u001b[1;32m    211\u001b[0m path \u001b[38;5;241m=\u001b[39m run_out_path \u001b[38;5;129;01mor\u001b[39;00m model_out_path\n\u001b[1;32m    212\u001b[0m \u001b[38;5;28;01mif\u001b[39;00m path \u001b[38;5;129;01mis\u001b[39;00m \u001b[38;5;28;01mNone\u001b[39;00m:\n",
            "File \u001b[0;32m/anaconda/envs/azureml_py310_sdkv2/lib/python3.10/site-packages/mlflow/store/artifact/runs_artifact_repo.py:231\u001b[0m, in \u001b[0;36mRunsArtifactRepository._download_model_artifacts\u001b[0;34m(self, artifact_path, dst_path)\u001b[0m\n\u001b[1;32m    229\u001b[0m [model_name, \u001b[38;5;241m*\u001b[39mrest] \u001b[38;5;241m=\u001b[39m rel_path\u001b[38;5;241m.\u001b[39msplit(\u001b[38;5;124m\"\u001b[39m\u001b[38;5;124m/\u001b[39m\u001b[38;5;124m\"\u001b[39m, \u001b[38;5;241m1\u001b[39m)\n\u001b[1;32m    230\u001b[0m rel_path \u001b[38;5;241m=\u001b[39m rest[\u001b[38;5;241m0\u001b[39m] \u001b[38;5;28;01mif\u001b[39;00m rest \u001b[38;5;28;01melse\u001b[39;00m \u001b[38;5;124m\"\u001b[39m\u001b[38;5;124m\"\u001b[39m\n\u001b[0;32m--> 231\u001b[0m \u001b[38;5;28;01mif\u001b[39;00m repo \u001b[38;5;241m:=\u001b[39m \u001b[38;5;28;43mself\u001b[39;49m\u001b[38;5;241;43m.\u001b[39;49m\u001b[43m_get_logged_model_artifact_repo\u001b[49m\u001b[43m(\u001b[49m\u001b[43mrun_id\u001b[49m\u001b[38;5;241;43m=\u001b[39;49m\u001b[43mrun_id\u001b[49m\u001b[43m,\u001b[49m\u001b[43m \u001b[49m\u001b[43mname\u001b[49m\u001b[38;5;241;43m=\u001b[39;49m\u001b[43mmodel_name\u001b[49m\u001b[43m)\u001b[49m:\n\u001b[1;32m    232\u001b[0m     dst \u001b[38;5;241m=\u001b[39m os\u001b[38;5;241m.\u001b[39mpath\u001b[38;5;241m.\u001b[39mjoin(dst_path, model_name)\n\u001b[1;32m    233\u001b[0m     os\u001b[38;5;241m.\u001b[39mmakedirs(dst, exist_ok\u001b[38;5;241m=\u001b[39m\u001b[38;5;28;01mTrue\u001b[39;00m)\n",
            "File \u001b[0;32m/anaconda/envs/azureml_py310_sdkv2/lib/python3.10/site-packages/mlflow/store/artifact/runs_artifact_repo.py:154\u001b[0m, in \u001b[0;36mRunsArtifactRepository._get_logged_model_artifact_repo\u001b[0;34m(self, run_id, name)\u001b[0m\n\u001b[1;32m    151\u001b[0m             \u001b[38;5;28;01mbreak\u001b[39;00m\n\u001b[1;32m    152\u001b[0m         page_token \u001b[38;5;241m=\u001b[39m page\u001b[38;5;241m.\u001b[39mtoken\n\u001b[0;32m--> 154\u001b[0m \u001b[38;5;28;01mif\u001b[39;00m matched \u001b[38;5;241m:=\u001b[39m \u001b[38;5;28;43mnext\u001b[39;49m\u001b[43m(\u001b[49m\u001b[43m(\u001b[49m\u001b[43mm\u001b[49m\u001b[43m \u001b[49m\u001b[38;5;28;43;01mfor\u001b[39;49;00m\u001b[43m \u001b[49m\u001b[43mm\u001b[49m\u001b[43m \u001b[49m\u001b[38;5;129;43;01min\u001b[39;49;00m\u001b[43m \u001b[49m\u001b[43miter_models\u001b[49m\u001b[43m(\u001b[49m\u001b[43m)\u001b[49m\u001b[43m \u001b[49m\u001b[38;5;28;43;01mif\u001b[39;49;00m\u001b[43m \u001b[49m\u001b[43mm\u001b[49m\u001b[38;5;241;43m.\u001b[39;49m\u001b[43msource_run_id\u001b[49m\u001b[43m \u001b[49m\u001b[38;5;241;43m==\u001b[39;49m\u001b[43m \u001b[49m\u001b[43mrun_id\u001b[49m\u001b[43m)\u001b[49m\u001b[43m,\u001b[49m\u001b[43m \u001b[49m\u001b[38;5;28;43;01mNone\u001b[39;49;00m\u001b[43m)\u001b[49m:\n\u001b[1;32m    155\u001b[0m     \u001b[38;5;28;01mreturn\u001b[39;00m get_artifact_repository(matched\u001b[38;5;241m.\u001b[39martifact_location)\n\u001b[1;32m    157\u001b[0m \u001b[38;5;28;01mreturn\u001b[39;00m \u001b[38;5;28;01mNone\u001b[39;00m\n",
            "File \u001b[0;32m/anaconda/envs/azureml_py310_sdkv2/lib/python3.10/site-packages/mlflow/store/artifact/runs_artifact_repo.py:154\u001b[0m, in \u001b[0;36m<genexpr>\u001b[0;34m(.0)\u001b[0m\n\u001b[1;32m    151\u001b[0m             \u001b[38;5;28;01mbreak\u001b[39;00m\n\u001b[1;32m    152\u001b[0m         page_token \u001b[38;5;241m=\u001b[39m page\u001b[38;5;241m.\u001b[39mtoken\n\u001b[0;32m--> 154\u001b[0m \u001b[38;5;28;01mif\u001b[39;00m matched \u001b[38;5;241m:=\u001b[39m \u001b[38;5;28mnext\u001b[39m((m \u001b[38;5;28;01mfor\u001b[39;00m m \u001b[38;5;129;01min\u001b[39;00m iter_models() \u001b[38;5;28;01mif\u001b[39;00m m\u001b[38;5;241m.\u001b[39msource_run_id \u001b[38;5;241m==\u001b[39m run_id), \u001b[38;5;28;01mNone\u001b[39;00m):\n\u001b[1;32m    155\u001b[0m     \u001b[38;5;28;01mreturn\u001b[39;00m get_artifact_repository(matched\u001b[38;5;241m.\u001b[39martifact_location)\n\u001b[1;32m    157\u001b[0m \u001b[38;5;28;01mreturn\u001b[39;00m \u001b[38;5;28;01mNone\u001b[39;00m\n",
            "File \u001b[0;32m/anaconda/envs/azureml_py310_sdkv2/lib/python3.10/site-packages/mlflow/store/artifact/runs_artifact_repo.py:143\u001b[0m, in \u001b[0;36mRunsArtifactRepository._get_logged_model_artifact_repo.<locals>.iter_models\u001b[0;34m()\u001b[0m\n\u001b[1;32m    141\u001b[0m page_token: Optional[\u001b[38;5;28mstr\u001b[39m] \u001b[38;5;241m=\u001b[39m \u001b[38;5;28;01mNone\u001b[39;00m\n\u001b[1;32m    142\u001b[0m \u001b[38;5;28;01mwhile\u001b[39;00m \u001b[38;5;28;01mTrue\u001b[39;00m:\n\u001b[0;32m--> 143\u001b[0m     page \u001b[38;5;241m=\u001b[39m \u001b[43mclient\u001b[49m\u001b[38;5;241;43m.\u001b[39;49m\u001b[43msearch_logged_models\u001b[49m\u001b[43m(\u001b[49m\n\u001b[1;32m    144\u001b[0m \u001b[43m        \u001b[49m\u001b[43mexperiment_ids\u001b[49m\u001b[38;5;241;43m=\u001b[39;49m\u001b[43m[\u001b[49m\u001b[43mexperiment_id\u001b[49m\u001b[43m]\u001b[49m\u001b[43m,\u001b[49m\n\u001b[1;32m    145\u001b[0m \u001b[43m        \u001b[49m\u001b[38;5;66;43;03m# TODO: Filter by 'source_run_id' once Databricks backend supports it\u001b[39;49;00m\n\u001b[1;32m    146\u001b[0m \u001b[43m        \u001b[49m\u001b[43mfilter_string\u001b[49m\u001b[38;5;241;43m=\u001b[39;49m\u001b[38;5;124;43mf\u001b[39;49m\u001b[38;5;124;43m\"\u001b[39;49m\u001b[38;5;124;43mname = \u001b[39;49m\u001b[38;5;124;43m'\u001b[39;49m\u001b[38;5;132;43;01m{\u001b[39;49;00m\u001b[43mname\u001b[49m\u001b[38;5;132;43;01m}\u001b[39;49;00m\u001b[38;5;124;43m'\u001b[39;49m\u001b[38;5;124;43m\"\u001b[39;49m\u001b[43m,\u001b[49m\n\u001b[1;32m    147\u001b[0m \u001b[43m        \u001b[49m\u001b[43mpage_token\u001b[49m\u001b[38;5;241;43m=\u001b[39;49m\u001b[43mpage_token\u001b[49m\u001b[43m,\u001b[49m\n\u001b[1;32m    148\u001b[0m \u001b[43m    \u001b[49m\u001b[43m)\u001b[49m\n\u001b[1;32m    149\u001b[0m     \u001b[38;5;28;01myield from\u001b[39;00m page\n\u001b[1;32m    150\u001b[0m     \u001b[38;5;28;01mif\u001b[39;00m \u001b[38;5;129;01mnot\u001b[39;00m page\u001b[38;5;241m.\u001b[39mtoken:\n",
            "File \u001b[0;32m/anaconda/envs/azureml_py310_sdkv2/lib/python3.10/site-packages/mlflow/tracking/client.py:5584\u001b[0m, in \u001b[0;36mMlflowClient.search_logged_models\u001b[0;34m(self, experiment_ids, filter_string, datasets, max_results, order_by, page_token)\u001b[0m\n\u001b[1;32m   5516\u001b[0m \u001b[38;5;129m@experimental\u001b[39m\n\u001b[1;32m   5517\u001b[0m \u001b[38;5;28;01mdef\u001b[39;00m\u001b[38;5;250m \u001b[39m\u001b[38;5;21msearch_logged_models\u001b[39m(\n\u001b[1;32m   5518\u001b[0m     \u001b[38;5;28mself\u001b[39m,\n\u001b[0;32m   (...)\u001b[0m\n\u001b[1;32m   5524\u001b[0m     page_token: Optional[\u001b[38;5;28mstr\u001b[39m] \u001b[38;5;241m=\u001b[39m \u001b[38;5;28;01mNone\u001b[39;00m,\n\u001b[1;32m   5525\u001b[0m ) \u001b[38;5;241m-\u001b[39m\u001b[38;5;241m>\u001b[39m PagedList[LoggedModel]:\n\u001b[1;32m   5526\u001b[0m \u001b[38;5;250m    \u001b[39m\u001b[38;5;124;03m\"\"\"\u001b[39;00m\n\u001b[1;32m   5527\u001b[0m \u001b[38;5;124;03m    Search for logged models that match the specified search criteria.\u001b[39;00m\n\u001b[1;32m   5528\u001b[0m \n\u001b[0;32m   (...)\u001b[0m\n\u001b[1;32m   5582\u001b[0m \u001b[38;5;124;03m        :py:class:`LoggedModel <mlflow.entities.LoggedModel>` objects.\u001b[39;00m\n\u001b[1;32m   5583\u001b[0m \u001b[38;5;124;03m    \"\"\"\u001b[39;00m\n\u001b[0;32m-> 5584\u001b[0m     \u001b[38;5;28;01mreturn\u001b[39;00m \u001b[38;5;28;43mself\u001b[39;49m\u001b[38;5;241;43m.\u001b[39;49m\u001b[43m_tracking_client\u001b[49m\u001b[38;5;241;43m.\u001b[39;49m\u001b[43msearch_logged_models\u001b[49m\u001b[43m(\u001b[49m\n\u001b[1;32m   5585\u001b[0m \u001b[43m        \u001b[49m\u001b[43mexperiment_ids\u001b[49m\u001b[43m,\u001b[49m\u001b[43m \u001b[49m\u001b[43mfilter_string\u001b[49m\u001b[43m,\u001b[49m\u001b[43m \u001b[49m\u001b[43mdatasets\u001b[49m\u001b[43m,\u001b[49m\u001b[43m \u001b[49m\u001b[43mmax_results\u001b[49m\u001b[43m,\u001b[49m\u001b[43m \u001b[49m\u001b[43morder_by\u001b[49m\u001b[43m,\u001b[49m\u001b[43m \u001b[49m\u001b[43mpage_token\u001b[49m\n\u001b[1;32m   5586\u001b[0m \u001b[43m    \u001b[49m\u001b[43m)\u001b[49m\n",
            "File \u001b[0;32m/anaconda/envs/azureml_py310_sdkv2/lib/python3.10/site-packages/mlflow/tracking/_tracking_service/client.py:881\u001b[0m, in \u001b[0;36mTrackingServiceClient.search_logged_models\u001b[0;34m(self, experiment_ids, filter_string, datasets, max_results, order_by, page_token)\u001b[0m\n\u001b[1;32m    875\u001b[0m \u001b[38;5;28;01mif\u001b[39;00m \u001b[38;5;129;01mnot\u001b[39;00m \u001b[38;5;28misinstance\u001b[39m(experiment_ids, \u001b[38;5;28mlist\u001b[39m) \u001b[38;5;129;01mor\u001b[39;00m \u001b[38;5;129;01mnot\u001b[39;00m \u001b[38;5;28mall\u001b[39m(\n\u001b[1;32m    876\u001b[0m     \u001b[38;5;28misinstance\u001b[39m(eid, \u001b[38;5;28mstr\u001b[39m) \u001b[38;5;28;01mfor\u001b[39;00m eid \u001b[38;5;129;01min\u001b[39;00m experiment_ids\n\u001b[1;32m    877\u001b[0m ):\n\u001b[1;32m    878\u001b[0m     \u001b[38;5;28;01mraise\u001b[39;00m MlflowException\u001b[38;5;241m.\u001b[39minvalid_parameter_value(\n\u001b[1;32m    879\u001b[0m         \u001b[38;5;124mf\u001b[39m\u001b[38;5;124m\"\u001b[39m\u001b[38;5;124mexperiment_ids must be a list of strings, got \u001b[39m\u001b[38;5;132;01m{\u001b[39;00m\u001b[38;5;28mtype\u001b[39m(experiment_ids)\u001b[38;5;132;01m}\u001b[39;00m\u001b[38;5;124m\"\u001b[39m,\n\u001b[1;32m    880\u001b[0m     )\n\u001b[0;32m--> 881\u001b[0m \u001b[38;5;28;01mreturn\u001b[39;00m \u001b[38;5;28;43mself\u001b[39;49m\u001b[38;5;241;43m.\u001b[39;49m\u001b[43mstore\u001b[49m\u001b[38;5;241;43m.\u001b[39;49m\u001b[43msearch_logged_models\u001b[49m\u001b[43m(\u001b[49m\n\u001b[1;32m    882\u001b[0m \u001b[43m    \u001b[49m\u001b[43mexperiment_ids\u001b[49m\u001b[43m,\u001b[49m\u001b[43m \u001b[49m\u001b[43mfilter_string\u001b[49m\u001b[43m,\u001b[49m\u001b[43m \u001b[49m\u001b[43mdatasets\u001b[49m\u001b[43m,\u001b[49m\u001b[43m \u001b[49m\u001b[43mmax_results\u001b[49m\u001b[43m,\u001b[49m\u001b[43m \u001b[49m\u001b[43morder_by\u001b[49m\u001b[43m,\u001b[49m\u001b[43m \u001b[49m\u001b[43mpage_token\u001b[49m\n\u001b[1;32m    883\u001b[0m \u001b[43m\u001b[49m\u001b[43m)\u001b[49m\n",
            "File \u001b[0;32m/anaconda/envs/azureml_py310_sdkv2/lib/python3.10/site-packages/mlflow/store/tracking/rest_store.py:1057\u001b[0m, in \u001b[0;36mRestStore.search_logged_models\u001b[0;34m(self, experiment_ids, filter_string, datasets, max_results, order_by, page_token)\u001b[0m\n\u001b[1;32m   1002\u001b[0m \u001b[38;5;250m\u001b[39m\u001b[38;5;124;03m\"\"\"\u001b[39;00m\n\u001b[1;32m   1003\u001b[0m \u001b[38;5;124;03mSearch for logged models that match the specified search criteria.\u001b[39;00m\n\u001b[1;32m   1004\u001b[0m \n\u001b[0;32m   (...)\u001b[0m\n\u001b[1;32m   1031\u001b[0m \u001b[38;5;124;03m    :py:class:`LoggedModel <mlflow.entities.LoggedModel>` objects.\u001b[39;00m\n\u001b[1;32m   1032\u001b[0m \u001b[38;5;124;03m\"\"\"\u001b[39;00m\n\u001b[1;32m   1033\u001b[0m req_body \u001b[38;5;241m=\u001b[39m message_to_json(\n\u001b[1;32m   1034\u001b[0m     SearchLoggedModels(\n\u001b[1;32m   1035\u001b[0m         experiment_ids\u001b[38;5;241m=\u001b[39mexperiment_ids,\n\u001b[0;32m   (...)\u001b[0m\n\u001b[1;32m   1055\u001b[0m     )\n\u001b[1;32m   1056\u001b[0m )\n\u001b[0;32m-> 1057\u001b[0m response_proto \u001b[38;5;241m=\u001b[39m \u001b[38;5;28;43mself\u001b[39;49m\u001b[38;5;241;43m.\u001b[39;49m\u001b[43m_call_endpoint\u001b[49m\u001b[43m(\u001b[49m\u001b[43mSearchLoggedModels\u001b[49m\u001b[43m,\u001b[49m\u001b[43m \u001b[49m\u001b[43mreq_body\u001b[49m\u001b[43m)\u001b[49m\n\u001b[1;32m   1058\u001b[0m models \u001b[38;5;241m=\u001b[39m [LoggedModel\u001b[38;5;241m.\u001b[39mfrom_proto(x) \u001b[38;5;28;01mfor\u001b[39;00m x \u001b[38;5;129;01min\u001b[39;00m response_proto\u001b[38;5;241m.\u001b[39mmodels]\n\u001b[1;32m   1059\u001b[0m \u001b[38;5;28;01mreturn\u001b[39;00m PagedList(models, response_proto\u001b[38;5;241m.\u001b[39mnext_page_token \u001b[38;5;129;01mor\u001b[39;00m \u001b[38;5;28;01mNone\u001b[39;00m)\n",
            "File \u001b[0;32m/anaconda/envs/azureml_py310_sdkv2/lib/python3.10/site-packages/mlflow/store/tracking/rest_store.py:135\u001b[0m, in \u001b[0;36mRestStore._call_endpoint\u001b[0;34m(self, api, json_body, endpoint, retry_timeout_seconds)\u001b[0m\n\u001b[1;32m    133\u001b[0m     endpoint, method \u001b[38;5;241m=\u001b[39m _METHOD_TO_INFO[api]\n\u001b[1;32m    134\u001b[0m response_proto \u001b[38;5;241m=\u001b[39m api\u001b[38;5;241m.\u001b[39mResponse()\n\u001b[0;32m--> 135\u001b[0m \u001b[38;5;28;01mreturn\u001b[39;00m \u001b[43mcall_endpoint\u001b[49m\u001b[43m(\u001b[49m\n\u001b[1;32m    136\u001b[0m \u001b[43m    \u001b[49m\u001b[38;5;28;43mself\u001b[39;49m\u001b[38;5;241;43m.\u001b[39;49m\u001b[43mget_host_creds\u001b[49m\u001b[43m(\u001b[49m\u001b[43m)\u001b[49m\u001b[43m,\u001b[49m\n\u001b[1;32m    137\u001b[0m \u001b[43m    \u001b[49m\u001b[43mendpoint\u001b[49m\u001b[43m,\u001b[49m\n\u001b[1;32m    138\u001b[0m \u001b[43m    \u001b[49m\u001b[43mmethod\u001b[49m\u001b[43m,\u001b[49m\n\u001b[1;32m    139\u001b[0m \u001b[43m    \u001b[49m\u001b[43mjson_body\u001b[49m\u001b[43m,\u001b[49m\n\u001b[1;32m    140\u001b[0m \u001b[43m    \u001b[49m\u001b[43mresponse_proto\u001b[49m\u001b[43m,\u001b[49m\n\u001b[1;32m    141\u001b[0m \u001b[43m    \u001b[49m\u001b[43mretry_timeout_seconds\u001b[49m\u001b[38;5;241;43m=\u001b[39;49m\u001b[43mretry_timeout_seconds\u001b[49m\u001b[43m,\u001b[49m\n\u001b[1;32m    142\u001b[0m \u001b[43m\u001b[49m\u001b[43m)\u001b[49m\n",
            "File \u001b[0;32m/anaconda/envs/azureml_py310_sdkv2/lib/python3.10/site-packages/mlflow/utils/rest_utils.py:590\u001b[0m, in \u001b[0;36mcall_endpoint\u001b[0;34m(host_creds, endpoint, method, json_body, response_proto, extra_headers, retry_timeout_seconds)\u001b[0m\n\u001b[1;32m    587\u001b[0m     call_kwargs[\u001b[38;5;124m\"\u001b[39m\u001b[38;5;124mjson\u001b[39m\u001b[38;5;124m\"\u001b[39m] \u001b[38;5;241m=\u001b[39m json_body\n\u001b[1;32m    588\u001b[0m     response \u001b[38;5;241m=\u001b[39m http_request(\u001b[38;5;241m*\u001b[39m\u001b[38;5;241m*\u001b[39mcall_kwargs)\n\u001b[0;32m--> 590\u001b[0m response \u001b[38;5;241m=\u001b[39m \u001b[43mverify_rest_response\u001b[49m\u001b[43m(\u001b[49m\u001b[43mresponse\u001b[49m\u001b[43m,\u001b[49m\u001b[43m \u001b[49m\u001b[43mendpoint\u001b[49m\u001b[43m)\u001b[49m\n\u001b[1;32m    591\u001b[0m response_to_parse \u001b[38;5;241m=\u001b[39m response\u001b[38;5;241m.\u001b[39mtext\n\u001b[1;32m    592\u001b[0m \u001b[38;5;28;01mtry\u001b[39;00m:\n",
            "File \u001b[0;32m/anaconda/envs/azureml_py310_sdkv2/lib/python3.10/site-packages/mlflow/utils/rest_utils.py:310\u001b[0m, in \u001b[0;36mverify_rest_response\u001b[0;34m(response, endpoint)\u001b[0m\n\u001b[1;32m    305\u001b[0m     \u001b[38;5;28;01melse\u001b[39;00m:\n\u001b[1;32m    306\u001b[0m         base_msg \u001b[38;5;241m=\u001b[39m (\n\u001b[1;32m    307\u001b[0m             \u001b[38;5;124mf\u001b[39m\u001b[38;5;124m\"\u001b[39m\u001b[38;5;124mAPI request to endpoint \u001b[39m\u001b[38;5;132;01m{\u001b[39;00mendpoint\u001b[38;5;132;01m}\u001b[39;00m\u001b[38;5;124m \u001b[39m\u001b[38;5;124m\"\u001b[39m\n\u001b[1;32m    308\u001b[0m             \u001b[38;5;124mf\u001b[39m\u001b[38;5;124m\"\u001b[39m\u001b[38;5;124mfailed with error code \u001b[39m\u001b[38;5;132;01m{\u001b[39;00mresponse\u001b[38;5;241m.\u001b[39mstatus_code\u001b[38;5;132;01m}\u001b[39;00m\u001b[38;5;124m != 200\u001b[39m\u001b[38;5;124m\"\u001b[39m\n\u001b[1;32m    309\u001b[0m         )\n\u001b[0;32m--> 310\u001b[0m         \u001b[38;5;28;01mraise\u001b[39;00m MlflowException(\n\u001b[1;32m    311\u001b[0m             \u001b[38;5;124mf\u001b[39m\u001b[38;5;124m\"\u001b[39m\u001b[38;5;132;01m{\u001b[39;00mbase_msg\u001b[38;5;132;01m}\u001b[39;00m\u001b[38;5;124m. Response body: \u001b[39m\u001b[38;5;124m'\u001b[39m\u001b[38;5;132;01m{\u001b[39;00mresponse\u001b[38;5;241m.\u001b[39mtext\u001b[38;5;132;01m}\u001b[39;00m\u001b[38;5;124m'\u001b[39m\u001b[38;5;124m\"\u001b[39m,\n\u001b[1;32m    312\u001b[0m             error_code\u001b[38;5;241m=\u001b[39mget_error_code(response\u001b[38;5;241m.\u001b[39mstatus_code),\n\u001b[1;32m    313\u001b[0m         )\n\u001b[1;32m    315\u001b[0m \u001b[38;5;66;03m# Skip validation for endpoints (e.g. DBFS file-download API) which may return a non-JSON\u001b[39;00m\n\u001b[1;32m    316\u001b[0m \u001b[38;5;66;03m# response\u001b[39;00m\n\u001b[1;32m    317\u001b[0m \u001b[38;5;28;01mif\u001b[39;00m endpoint\u001b[38;5;241m.\u001b[39mstartswith(_REST_API_PATH_PREFIX) \u001b[38;5;129;01mand\u001b[39;00m \u001b[38;5;129;01mnot\u001b[39;00m _can_parse_as_json_object(response\u001b[38;5;241m.\u001b[39mtext):\n",
            "\u001b[0;31mMlflowException\u001b[0m: API request to endpoint /api/2.0/mlflow/logged-models/search failed with error code 404 != 200. Response body: ''"
          ]
        }
      ],
      "execution_count": 17,
      "metadata": {
        "gather": {
          "logged": 1758673469271
        }
      }
    },
    {
      "cell_type": "code",
      "source": [
        "import mlflow, shutil\n",
        "from pathlib import Path\n",
        "\n",
        "run_id = \"dc660ab5-16bd-4f36-89d9-85c1763e3111\"  # use the run_id you printed\n",
        "model_uri = f\"runs:/{run_id}/model\"\n",
        "\n",
        "dst = Path(\"downloaded_run_model\")\n",
        "if dst.exists():\n",
        "    shutil.rmtree(dst)\n",
        "\n",
        "# 1) Download the logged model artifacts to a local folder\n",
        "local_path = mlflow.artifacts.download_artifacts(artifact_uri=model_uri, dst_path=str(dst))\n",
        "print(\"Downloaded to:\", local_path)\n",
        "\n",
        "# 2) Load the model from the local path (bypasses AML’s logged-models endpoint)\n",
        "try:\n",
        "    loaded = mlflow.pyfunc.load_model(local_path)\n",
        "except Exception:\n",
        "    # some stacks prefer the sklearn flavor explicitly\n",
        "    import mlflow.sklearn\n",
        "    loaded = mlflow.sklearn.load_model(local_path)\n",
        "\n",
        "# 3) Make & save a small prediction sample for grading\n",
        "sample = X_test.head(10).copy()\n",
        "sample[\"y_true\"] = y_test.loc[sample.index].values\n",
        "sample[\"y_pred_loaded\"] = loaded.predict(sample.drop(columns=[\"y_true\"], errors=\"ignore\"))\n",
        "sample.to_csv(\"sample_loaded_preds.csv\", index=False)\n",
        "display(sample)\n",
        "print(\"✅ Wrote sample_loaded_preds.csv\")\n"
      ],
      "outputs": [
        {
          "output_type": "stream",
          "name": "stderr",
          "text": "Downloading artifacts: 100%|██████████| 7/7 [00:00<00:00, 11.31it/s]\n"
        },
        {
          "output_type": "error",
          "ename": "MlflowException",
          "evalue": "API request to endpoint /api/2.0/mlflow/logged-models/search failed with error code 404 != 200. Response body: ''",
          "traceback": [
            "\u001b[0;31m---------------------------------------------------------------------------\u001b[0m",
            "\u001b[0;31mMlflowException\u001b[0m                           Traceback (most recent call last)",
            "Cell \u001b[0;32mIn[14], line 12\u001b[0m\n\u001b[1;32m      9\u001b[0m     shutil\u001b[38;5;241m.\u001b[39mrmtree(dst)\n\u001b[1;32m     11\u001b[0m \u001b[38;5;66;03m# 1) Download the logged model artifacts to a local folder\u001b[39;00m\n\u001b[0;32m---> 12\u001b[0m local_path \u001b[38;5;241m=\u001b[39m \u001b[43mmlflow\u001b[49m\u001b[38;5;241;43m.\u001b[39;49m\u001b[43martifacts\u001b[49m\u001b[38;5;241;43m.\u001b[39;49m\u001b[43mdownload_artifacts\u001b[49m\u001b[43m(\u001b[49m\u001b[43martifact_uri\u001b[49m\u001b[38;5;241;43m=\u001b[39;49m\u001b[43mmodel_uri\u001b[49m\u001b[43m,\u001b[49m\u001b[43m \u001b[49m\u001b[43mdst_path\u001b[49m\u001b[38;5;241;43m=\u001b[39;49m\u001b[38;5;28;43mstr\u001b[39;49m\u001b[43m(\u001b[49m\u001b[43mdst\u001b[49m\u001b[43m)\u001b[49m\u001b[43m)\u001b[49m\n\u001b[1;32m     13\u001b[0m \u001b[38;5;28mprint\u001b[39m(\u001b[38;5;124m\"\u001b[39m\u001b[38;5;124mDownloaded to:\u001b[39m\u001b[38;5;124m\"\u001b[39m, local_path)\n\u001b[1;32m     15\u001b[0m \u001b[38;5;66;03m# 2) Load the model from the local path (bypasses AML’s logged-models endpoint)\u001b[39;00m\n",
            "File \u001b[0;32m/anaconda/envs/azureml_py310_sdkv2/lib/python3.10/site-packages/mlflow/artifacts/__init__.py:82\u001b[0m, in \u001b[0;36mdownload_artifacts\u001b[0;34m(artifact_uri, run_id, artifact_path, dst_path, tracking_uri)\u001b[0m\n\u001b[1;32m     79\u001b[0m     pathlib\u001b[38;5;241m.\u001b[39mPath(dst_path)\u001b[38;5;241m.\u001b[39mmkdir(exist_ok\u001b[38;5;241m=\u001b[39m\u001b[38;5;28;01mTrue\u001b[39;00m, parents\u001b[38;5;241m=\u001b[39m\u001b[38;5;28;01mTrue\u001b[39;00m)\n\u001b[1;32m     81\u001b[0m \u001b[38;5;28;01mif\u001b[39;00m artifact_uri \u001b[38;5;129;01mis\u001b[39;00m \u001b[38;5;129;01mnot\u001b[39;00m \u001b[38;5;28;01mNone\u001b[39;00m:\n\u001b[0;32m---> 82\u001b[0m     \u001b[38;5;28;01mreturn\u001b[39;00m \u001b[43m_download_artifact_from_uri\u001b[49m\u001b[43m(\u001b[49m\u001b[43martifact_uri\u001b[49m\u001b[43m,\u001b[49m\u001b[43m \u001b[49m\u001b[43moutput_path\u001b[49m\u001b[38;5;241;43m=\u001b[39;49m\u001b[43mdst_path\u001b[49m\u001b[43m)\u001b[49m\n\u001b[1;32m     84\u001b[0m \u001b[38;5;66;03m# Use `runs:/<run_id>/<artifact_path>` to download both run and model (if exists) artifacts\u001b[39;00m\n\u001b[1;32m     85\u001b[0m \u001b[38;5;28;01mif\u001b[39;00m run_id \u001b[38;5;129;01mand\u001b[39;00m artifact_path:\n",
            "File \u001b[0;32m/anaconda/envs/azureml_py310_sdkv2/lib/python3.10/site-packages/mlflow/tracking/artifact_utils.py:117\u001b[0m, in \u001b[0;36m_download_artifact_from_uri\u001b[0;34m(artifact_uri, output_path, lineage_header_info)\u001b[0m\n\u001b[1;32m    111\u001b[0m     \u001b[38;5;28;01mif\u001b[39;00m \u001b[38;5;28misinstance\u001b[39m(repo, ModelsArtifactRepository):\n\u001b[1;32m    112\u001b[0m         \u001b[38;5;28;01mreturn\u001b[39;00m repo\u001b[38;5;241m.\u001b[39mdownload_artifacts(\n\u001b[1;32m    113\u001b[0m             artifact_path\u001b[38;5;241m=\u001b[39martifact_path,\n\u001b[1;32m    114\u001b[0m             dst_path\u001b[38;5;241m=\u001b[39moutput_path,\n\u001b[1;32m    115\u001b[0m             lineage_header_info\u001b[38;5;241m=\u001b[39mlineage_header_info,\n\u001b[1;32m    116\u001b[0m         )\n\u001b[0;32m--> 117\u001b[0m     \u001b[38;5;28;01mreturn\u001b[39;00m \u001b[43mrepo\u001b[49m\u001b[38;5;241;43m.\u001b[39;49m\u001b[43mdownload_artifacts\u001b[49m\u001b[43m(\u001b[49m\u001b[43martifact_path\u001b[49m\u001b[38;5;241;43m=\u001b[39;49m\u001b[43martifact_path\u001b[49m\u001b[43m,\u001b[49m\u001b[43m \u001b[49m\u001b[43mdst_path\u001b[49m\u001b[38;5;241;43m=\u001b[39;49m\u001b[43moutput_path\u001b[49m\u001b[43m)\u001b[49m\n\u001b[1;32m    118\u001b[0m \u001b[38;5;28;01mexcept\u001b[39;00m \u001b[38;5;167;01mException\u001b[39;00m \u001b[38;5;28;01mas\u001b[39;00m e:\n\u001b[1;32m    119\u001b[0m     \u001b[38;5;28;01mif\u001b[39;00m artifact_uri\u001b[38;5;241m.\u001b[39mstartswith(\u001b[38;5;124m\"\u001b[39m\u001b[38;5;124mm-\u001b[39m\u001b[38;5;124m\"\u001b[39m):\n\u001b[1;32m    120\u001b[0m         \u001b[38;5;66;03m# When a Model ID like string is passed, suggest using 'models:/{artifact_uri}' instead.\u001b[39;00m\n",
            "File \u001b[0;32m/anaconda/envs/azureml_py310_sdkv2/lib/python3.10/site-packages/mlflow/store/artifact/runs_artifact_repo.py:210\u001b[0m, in \u001b[0;36mRunsArtifactRepository.download_artifacts\u001b[0;34m(self, artifact_path, dst_path)\u001b[0m\n\u001b[1;32m    203\u001b[0m     _logger\u001b[38;5;241m.\u001b[39mdebug(\n\u001b[1;32m    204\u001b[0m         \u001b[38;5;124mf\u001b[39m\u001b[38;5;124m\"\u001b[39m\u001b[38;5;124mFailed to download artifacts from \u001b[39m\u001b[38;5;132;01m{\u001b[39;00m\u001b[38;5;28mself\u001b[39m\u001b[38;5;241m.\u001b[39martifact_uri\u001b[38;5;132;01m}\u001b[39;00m\u001b[38;5;124m/\u001b[39m\u001b[38;5;132;01m{\u001b[39;00martifact_path\u001b[38;5;132;01m}\u001b[39;00m\u001b[38;5;124m.\u001b[39m\u001b[38;5;124m\"\u001b[39m,\n\u001b[1;32m    205\u001b[0m         exc_info\u001b[38;5;241m=\u001b[39m\u001b[38;5;28;01mTrue\u001b[39;00m,\n\u001b[1;32m    206\u001b[0m     )\n\u001b[1;32m    208\u001b[0m \u001b[38;5;66;03m# If there are artifacts with the same name in the run and model, the model artifacts\u001b[39;00m\n\u001b[1;32m    209\u001b[0m \u001b[38;5;66;03m# will overwrite the run artifacts.\u001b[39;00m\n\u001b[0;32m--> 210\u001b[0m model_out_path \u001b[38;5;241m=\u001b[39m \u001b[38;5;28;43mself\u001b[39;49m\u001b[38;5;241;43m.\u001b[39;49m\u001b[43m_download_model_artifacts\u001b[49m\u001b[43m(\u001b[49m\u001b[43martifact_path\u001b[49m\u001b[43m,\u001b[49m\u001b[43m \u001b[49m\u001b[43mdst_path\u001b[49m\u001b[38;5;241;43m=\u001b[39;49m\u001b[43mdst_path\u001b[49m\u001b[43m)\u001b[49m\n\u001b[1;32m    211\u001b[0m path \u001b[38;5;241m=\u001b[39m run_out_path \u001b[38;5;129;01mor\u001b[39;00m model_out_path\n\u001b[1;32m    212\u001b[0m \u001b[38;5;28;01mif\u001b[39;00m path \u001b[38;5;129;01mis\u001b[39;00m \u001b[38;5;28;01mNone\u001b[39;00m:\n",
            "File \u001b[0;32m/anaconda/envs/azureml_py310_sdkv2/lib/python3.10/site-packages/mlflow/store/artifact/runs_artifact_repo.py:231\u001b[0m, in \u001b[0;36mRunsArtifactRepository._download_model_artifacts\u001b[0;34m(self, artifact_path, dst_path)\u001b[0m\n\u001b[1;32m    229\u001b[0m [model_name, \u001b[38;5;241m*\u001b[39mrest] \u001b[38;5;241m=\u001b[39m rel_path\u001b[38;5;241m.\u001b[39msplit(\u001b[38;5;124m\"\u001b[39m\u001b[38;5;124m/\u001b[39m\u001b[38;5;124m\"\u001b[39m, \u001b[38;5;241m1\u001b[39m)\n\u001b[1;32m    230\u001b[0m rel_path \u001b[38;5;241m=\u001b[39m rest[\u001b[38;5;241m0\u001b[39m] \u001b[38;5;28;01mif\u001b[39;00m rest \u001b[38;5;28;01melse\u001b[39;00m \u001b[38;5;124m\"\u001b[39m\u001b[38;5;124m\"\u001b[39m\n\u001b[0;32m--> 231\u001b[0m \u001b[38;5;28;01mif\u001b[39;00m repo \u001b[38;5;241m:=\u001b[39m \u001b[38;5;28;43mself\u001b[39;49m\u001b[38;5;241;43m.\u001b[39;49m\u001b[43m_get_logged_model_artifact_repo\u001b[49m\u001b[43m(\u001b[49m\u001b[43mrun_id\u001b[49m\u001b[38;5;241;43m=\u001b[39;49m\u001b[43mrun_id\u001b[49m\u001b[43m,\u001b[49m\u001b[43m \u001b[49m\u001b[43mname\u001b[49m\u001b[38;5;241;43m=\u001b[39;49m\u001b[43mmodel_name\u001b[49m\u001b[43m)\u001b[49m:\n\u001b[1;32m    232\u001b[0m     dst \u001b[38;5;241m=\u001b[39m os\u001b[38;5;241m.\u001b[39mpath\u001b[38;5;241m.\u001b[39mjoin(dst_path, model_name)\n\u001b[1;32m    233\u001b[0m     os\u001b[38;5;241m.\u001b[39mmakedirs(dst, exist_ok\u001b[38;5;241m=\u001b[39m\u001b[38;5;28;01mTrue\u001b[39;00m)\n",
            "File \u001b[0;32m/anaconda/envs/azureml_py310_sdkv2/lib/python3.10/site-packages/mlflow/store/artifact/runs_artifact_repo.py:154\u001b[0m, in \u001b[0;36mRunsArtifactRepository._get_logged_model_artifact_repo\u001b[0;34m(self, run_id, name)\u001b[0m\n\u001b[1;32m    151\u001b[0m             \u001b[38;5;28;01mbreak\u001b[39;00m\n\u001b[1;32m    152\u001b[0m         page_token \u001b[38;5;241m=\u001b[39m page\u001b[38;5;241m.\u001b[39mtoken\n\u001b[0;32m--> 154\u001b[0m \u001b[38;5;28;01mif\u001b[39;00m matched \u001b[38;5;241m:=\u001b[39m \u001b[38;5;28;43mnext\u001b[39;49m\u001b[43m(\u001b[49m\u001b[43m(\u001b[49m\u001b[43mm\u001b[49m\u001b[43m \u001b[49m\u001b[38;5;28;43;01mfor\u001b[39;49;00m\u001b[43m \u001b[49m\u001b[43mm\u001b[49m\u001b[43m \u001b[49m\u001b[38;5;129;43;01min\u001b[39;49;00m\u001b[43m \u001b[49m\u001b[43miter_models\u001b[49m\u001b[43m(\u001b[49m\u001b[43m)\u001b[49m\u001b[43m \u001b[49m\u001b[38;5;28;43;01mif\u001b[39;49;00m\u001b[43m \u001b[49m\u001b[43mm\u001b[49m\u001b[38;5;241;43m.\u001b[39;49m\u001b[43msource_run_id\u001b[49m\u001b[43m \u001b[49m\u001b[38;5;241;43m==\u001b[39;49m\u001b[43m \u001b[49m\u001b[43mrun_id\u001b[49m\u001b[43m)\u001b[49m\u001b[43m,\u001b[49m\u001b[43m \u001b[49m\u001b[38;5;28;43;01mNone\u001b[39;49;00m\u001b[43m)\u001b[49m:\n\u001b[1;32m    155\u001b[0m     \u001b[38;5;28;01mreturn\u001b[39;00m get_artifact_repository(matched\u001b[38;5;241m.\u001b[39martifact_location)\n\u001b[1;32m    157\u001b[0m \u001b[38;5;28;01mreturn\u001b[39;00m \u001b[38;5;28;01mNone\u001b[39;00m\n",
            "File \u001b[0;32m/anaconda/envs/azureml_py310_sdkv2/lib/python3.10/site-packages/mlflow/store/artifact/runs_artifact_repo.py:154\u001b[0m, in \u001b[0;36m<genexpr>\u001b[0;34m(.0)\u001b[0m\n\u001b[1;32m    151\u001b[0m             \u001b[38;5;28;01mbreak\u001b[39;00m\n\u001b[1;32m    152\u001b[0m         page_token \u001b[38;5;241m=\u001b[39m page\u001b[38;5;241m.\u001b[39mtoken\n\u001b[0;32m--> 154\u001b[0m \u001b[38;5;28;01mif\u001b[39;00m matched \u001b[38;5;241m:=\u001b[39m \u001b[38;5;28mnext\u001b[39m((m \u001b[38;5;28;01mfor\u001b[39;00m m \u001b[38;5;129;01min\u001b[39;00m iter_models() \u001b[38;5;28;01mif\u001b[39;00m m\u001b[38;5;241m.\u001b[39msource_run_id \u001b[38;5;241m==\u001b[39m run_id), \u001b[38;5;28;01mNone\u001b[39;00m):\n\u001b[1;32m    155\u001b[0m     \u001b[38;5;28;01mreturn\u001b[39;00m get_artifact_repository(matched\u001b[38;5;241m.\u001b[39martifact_location)\n\u001b[1;32m    157\u001b[0m \u001b[38;5;28;01mreturn\u001b[39;00m \u001b[38;5;28;01mNone\u001b[39;00m\n",
            "File \u001b[0;32m/anaconda/envs/azureml_py310_sdkv2/lib/python3.10/site-packages/mlflow/store/artifact/runs_artifact_repo.py:143\u001b[0m, in \u001b[0;36mRunsArtifactRepository._get_logged_model_artifact_repo.<locals>.iter_models\u001b[0;34m()\u001b[0m\n\u001b[1;32m    141\u001b[0m page_token: Optional[\u001b[38;5;28mstr\u001b[39m] \u001b[38;5;241m=\u001b[39m \u001b[38;5;28;01mNone\u001b[39;00m\n\u001b[1;32m    142\u001b[0m \u001b[38;5;28;01mwhile\u001b[39;00m \u001b[38;5;28;01mTrue\u001b[39;00m:\n\u001b[0;32m--> 143\u001b[0m     page \u001b[38;5;241m=\u001b[39m \u001b[43mclient\u001b[49m\u001b[38;5;241;43m.\u001b[39;49m\u001b[43msearch_logged_models\u001b[49m\u001b[43m(\u001b[49m\n\u001b[1;32m    144\u001b[0m \u001b[43m        \u001b[49m\u001b[43mexperiment_ids\u001b[49m\u001b[38;5;241;43m=\u001b[39;49m\u001b[43m[\u001b[49m\u001b[43mexperiment_id\u001b[49m\u001b[43m]\u001b[49m\u001b[43m,\u001b[49m\n\u001b[1;32m    145\u001b[0m \u001b[43m        \u001b[49m\u001b[38;5;66;43;03m# TODO: Filter by 'source_run_id' once Databricks backend supports it\u001b[39;49;00m\n\u001b[1;32m    146\u001b[0m \u001b[43m        \u001b[49m\u001b[43mfilter_string\u001b[49m\u001b[38;5;241;43m=\u001b[39;49m\u001b[38;5;124;43mf\u001b[39;49m\u001b[38;5;124;43m\"\u001b[39;49m\u001b[38;5;124;43mname = \u001b[39;49m\u001b[38;5;124;43m'\u001b[39;49m\u001b[38;5;132;43;01m{\u001b[39;49;00m\u001b[43mname\u001b[49m\u001b[38;5;132;43;01m}\u001b[39;49;00m\u001b[38;5;124;43m'\u001b[39;49m\u001b[38;5;124;43m\"\u001b[39;49m\u001b[43m,\u001b[49m\n\u001b[1;32m    147\u001b[0m \u001b[43m        \u001b[49m\u001b[43mpage_token\u001b[49m\u001b[38;5;241;43m=\u001b[39;49m\u001b[43mpage_token\u001b[49m\u001b[43m,\u001b[49m\n\u001b[1;32m    148\u001b[0m \u001b[43m    \u001b[49m\u001b[43m)\u001b[49m\n\u001b[1;32m    149\u001b[0m     \u001b[38;5;28;01myield from\u001b[39;00m page\n\u001b[1;32m    150\u001b[0m     \u001b[38;5;28;01mif\u001b[39;00m \u001b[38;5;129;01mnot\u001b[39;00m page\u001b[38;5;241m.\u001b[39mtoken:\n",
            "File \u001b[0;32m/anaconda/envs/azureml_py310_sdkv2/lib/python3.10/site-packages/mlflow/tracking/client.py:5584\u001b[0m, in \u001b[0;36mMlflowClient.search_logged_models\u001b[0;34m(self, experiment_ids, filter_string, datasets, max_results, order_by, page_token)\u001b[0m\n\u001b[1;32m   5516\u001b[0m \u001b[38;5;129m@experimental\u001b[39m\n\u001b[1;32m   5517\u001b[0m \u001b[38;5;28;01mdef\u001b[39;00m\u001b[38;5;250m \u001b[39m\u001b[38;5;21msearch_logged_models\u001b[39m(\n\u001b[1;32m   5518\u001b[0m     \u001b[38;5;28mself\u001b[39m,\n\u001b[0;32m   (...)\u001b[0m\n\u001b[1;32m   5524\u001b[0m     page_token: Optional[\u001b[38;5;28mstr\u001b[39m] \u001b[38;5;241m=\u001b[39m \u001b[38;5;28;01mNone\u001b[39;00m,\n\u001b[1;32m   5525\u001b[0m ) \u001b[38;5;241m-\u001b[39m\u001b[38;5;241m>\u001b[39m PagedList[LoggedModel]:\n\u001b[1;32m   5526\u001b[0m \u001b[38;5;250m    \u001b[39m\u001b[38;5;124;03m\"\"\"\u001b[39;00m\n\u001b[1;32m   5527\u001b[0m \u001b[38;5;124;03m    Search for logged models that match the specified search criteria.\u001b[39;00m\n\u001b[1;32m   5528\u001b[0m \n\u001b[0;32m   (...)\u001b[0m\n\u001b[1;32m   5582\u001b[0m \u001b[38;5;124;03m        :py:class:`LoggedModel <mlflow.entities.LoggedModel>` objects.\u001b[39;00m\n\u001b[1;32m   5583\u001b[0m \u001b[38;5;124;03m    \"\"\"\u001b[39;00m\n\u001b[0;32m-> 5584\u001b[0m     \u001b[38;5;28;01mreturn\u001b[39;00m \u001b[38;5;28;43mself\u001b[39;49m\u001b[38;5;241;43m.\u001b[39;49m\u001b[43m_tracking_client\u001b[49m\u001b[38;5;241;43m.\u001b[39;49m\u001b[43msearch_logged_models\u001b[49m\u001b[43m(\u001b[49m\n\u001b[1;32m   5585\u001b[0m \u001b[43m        \u001b[49m\u001b[43mexperiment_ids\u001b[49m\u001b[43m,\u001b[49m\u001b[43m \u001b[49m\u001b[43mfilter_string\u001b[49m\u001b[43m,\u001b[49m\u001b[43m \u001b[49m\u001b[43mdatasets\u001b[49m\u001b[43m,\u001b[49m\u001b[43m \u001b[49m\u001b[43mmax_results\u001b[49m\u001b[43m,\u001b[49m\u001b[43m \u001b[49m\u001b[43morder_by\u001b[49m\u001b[43m,\u001b[49m\u001b[43m \u001b[49m\u001b[43mpage_token\u001b[49m\n\u001b[1;32m   5586\u001b[0m \u001b[43m    \u001b[49m\u001b[43m)\u001b[49m\n",
            "File \u001b[0;32m/anaconda/envs/azureml_py310_sdkv2/lib/python3.10/site-packages/mlflow/tracking/_tracking_service/client.py:881\u001b[0m, in \u001b[0;36mTrackingServiceClient.search_logged_models\u001b[0;34m(self, experiment_ids, filter_string, datasets, max_results, order_by, page_token)\u001b[0m\n\u001b[1;32m    875\u001b[0m \u001b[38;5;28;01mif\u001b[39;00m \u001b[38;5;129;01mnot\u001b[39;00m \u001b[38;5;28misinstance\u001b[39m(experiment_ids, \u001b[38;5;28mlist\u001b[39m) \u001b[38;5;129;01mor\u001b[39;00m \u001b[38;5;129;01mnot\u001b[39;00m \u001b[38;5;28mall\u001b[39m(\n\u001b[1;32m    876\u001b[0m     \u001b[38;5;28misinstance\u001b[39m(eid, \u001b[38;5;28mstr\u001b[39m) \u001b[38;5;28;01mfor\u001b[39;00m eid \u001b[38;5;129;01min\u001b[39;00m experiment_ids\n\u001b[1;32m    877\u001b[0m ):\n\u001b[1;32m    878\u001b[0m     \u001b[38;5;28;01mraise\u001b[39;00m MlflowException\u001b[38;5;241m.\u001b[39minvalid_parameter_value(\n\u001b[1;32m    879\u001b[0m         \u001b[38;5;124mf\u001b[39m\u001b[38;5;124m\"\u001b[39m\u001b[38;5;124mexperiment_ids must be a list of strings, got \u001b[39m\u001b[38;5;132;01m{\u001b[39;00m\u001b[38;5;28mtype\u001b[39m(experiment_ids)\u001b[38;5;132;01m}\u001b[39;00m\u001b[38;5;124m\"\u001b[39m,\n\u001b[1;32m    880\u001b[0m     )\n\u001b[0;32m--> 881\u001b[0m \u001b[38;5;28;01mreturn\u001b[39;00m \u001b[38;5;28;43mself\u001b[39;49m\u001b[38;5;241;43m.\u001b[39;49m\u001b[43mstore\u001b[49m\u001b[38;5;241;43m.\u001b[39;49m\u001b[43msearch_logged_models\u001b[49m\u001b[43m(\u001b[49m\n\u001b[1;32m    882\u001b[0m \u001b[43m    \u001b[49m\u001b[43mexperiment_ids\u001b[49m\u001b[43m,\u001b[49m\u001b[43m \u001b[49m\u001b[43mfilter_string\u001b[49m\u001b[43m,\u001b[49m\u001b[43m \u001b[49m\u001b[43mdatasets\u001b[49m\u001b[43m,\u001b[49m\u001b[43m \u001b[49m\u001b[43mmax_results\u001b[49m\u001b[43m,\u001b[49m\u001b[43m \u001b[49m\u001b[43morder_by\u001b[49m\u001b[43m,\u001b[49m\u001b[43m \u001b[49m\u001b[43mpage_token\u001b[49m\n\u001b[1;32m    883\u001b[0m \u001b[43m\u001b[49m\u001b[43m)\u001b[49m\n",
            "File \u001b[0;32m/anaconda/envs/azureml_py310_sdkv2/lib/python3.10/site-packages/mlflow/store/tracking/rest_store.py:1057\u001b[0m, in \u001b[0;36mRestStore.search_logged_models\u001b[0;34m(self, experiment_ids, filter_string, datasets, max_results, order_by, page_token)\u001b[0m\n\u001b[1;32m   1002\u001b[0m \u001b[38;5;250m\u001b[39m\u001b[38;5;124;03m\"\"\"\u001b[39;00m\n\u001b[1;32m   1003\u001b[0m \u001b[38;5;124;03mSearch for logged models that match the specified search criteria.\u001b[39;00m\n\u001b[1;32m   1004\u001b[0m \n\u001b[0;32m   (...)\u001b[0m\n\u001b[1;32m   1031\u001b[0m \u001b[38;5;124;03m    :py:class:`LoggedModel <mlflow.entities.LoggedModel>` objects.\u001b[39;00m\n\u001b[1;32m   1032\u001b[0m \u001b[38;5;124;03m\"\"\"\u001b[39;00m\n\u001b[1;32m   1033\u001b[0m req_body \u001b[38;5;241m=\u001b[39m message_to_json(\n\u001b[1;32m   1034\u001b[0m     SearchLoggedModels(\n\u001b[1;32m   1035\u001b[0m         experiment_ids\u001b[38;5;241m=\u001b[39mexperiment_ids,\n\u001b[0;32m   (...)\u001b[0m\n\u001b[1;32m   1055\u001b[0m     )\n\u001b[1;32m   1056\u001b[0m )\n\u001b[0;32m-> 1057\u001b[0m response_proto \u001b[38;5;241m=\u001b[39m \u001b[38;5;28;43mself\u001b[39;49m\u001b[38;5;241;43m.\u001b[39;49m\u001b[43m_call_endpoint\u001b[49m\u001b[43m(\u001b[49m\u001b[43mSearchLoggedModels\u001b[49m\u001b[43m,\u001b[49m\u001b[43m \u001b[49m\u001b[43mreq_body\u001b[49m\u001b[43m)\u001b[49m\n\u001b[1;32m   1058\u001b[0m models \u001b[38;5;241m=\u001b[39m [LoggedModel\u001b[38;5;241m.\u001b[39mfrom_proto(x) \u001b[38;5;28;01mfor\u001b[39;00m x \u001b[38;5;129;01min\u001b[39;00m response_proto\u001b[38;5;241m.\u001b[39mmodels]\n\u001b[1;32m   1059\u001b[0m \u001b[38;5;28;01mreturn\u001b[39;00m PagedList(models, response_proto\u001b[38;5;241m.\u001b[39mnext_page_token \u001b[38;5;129;01mor\u001b[39;00m \u001b[38;5;28;01mNone\u001b[39;00m)\n",
            "File \u001b[0;32m/anaconda/envs/azureml_py310_sdkv2/lib/python3.10/site-packages/mlflow/store/tracking/rest_store.py:135\u001b[0m, in \u001b[0;36mRestStore._call_endpoint\u001b[0;34m(self, api, json_body, endpoint, retry_timeout_seconds)\u001b[0m\n\u001b[1;32m    133\u001b[0m     endpoint, method \u001b[38;5;241m=\u001b[39m _METHOD_TO_INFO[api]\n\u001b[1;32m    134\u001b[0m response_proto \u001b[38;5;241m=\u001b[39m api\u001b[38;5;241m.\u001b[39mResponse()\n\u001b[0;32m--> 135\u001b[0m \u001b[38;5;28;01mreturn\u001b[39;00m \u001b[43mcall_endpoint\u001b[49m\u001b[43m(\u001b[49m\n\u001b[1;32m    136\u001b[0m \u001b[43m    \u001b[49m\u001b[38;5;28;43mself\u001b[39;49m\u001b[38;5;241;43m.\u001b[39;49m\u001b[43mget_host_creds\u001b[49m\u001b[43m(\u001b[49m\u001b[43m)\u001b[49m\u001b[43m,\u001b[49m\n\u001b[1;32m    137\u001b[0m \u001b[43m    \u001b[49m\u001b[43mendpoint\u001b[49m\u001b[43m,\u001b[49m\n\u001b[1;32m    138\u001b[0m \u001b[43m    \u001b[49m\u001b[43mmethod\u001b[49m\u001b[43m,\u001b[49m\n\u001b[1;32m    139\u001b[0m \u001b[43m    \u001b[49m\u001b[43mjson_body\u001b[49m\u001b[43m,\u001b[49m\n\u001b[1;32m    140\u001b[0m \u001b[43m    \u001b[49m\u001b[43mresponse_proto\u001b[49m\u001b[43m,\u001b[49m\n\u001b[1;32m    141\u001b[0m \u001b[43m    \u001b[49m\u001b[43mretry_timeout_seconds\u001b[49m\u001b[38;5;241;43m=\u001b[39;49m\u001b[43mretry_timeout_seconds\u001b[49m\u001b[43m,\u001b[49m\n\u001b[1;32m    142\u001b[0m \u001b[43m\u001b[49m\u001b[43m)\u001b[49m\n",
            "File \u001b[0;32m/anaconda/envs/azureml_py310_sdkv2/lib/python3.10/site-packages/mlflow/utils/rest_utils.py:590\u001b[0m, in \u001b[0;36mcall_endpoint\u001b[0;34m(host_creds, endpoint, method, json_body, response_proto, extra_headers, retry_timeout_seconds)\u001b[0m\n\u001b[1;32m    587\u001b[0m     call_kwargs[\u001b[38;5;124m\"\u001b[39m\u001b[38;5;124mjson\u001b[39m\u001b[38;5;124m\"\u001b[39m] \u001b[38;5;241m=\u001b[39m json_body\n\u001b[1;32m    588\u001b[0m     response \u001b[38;5;241m=\u001b[39m http_request(\u001b[38;5;241m*\u001b[39m\u001b[38;5;241m*\u001b[39mcall_kwargs)\n\u001b[0;32m--> 590\u001b[0m response \u001b[38;5;241m=\u001b[39m \u001b[43mverify_rest_response\u001b[49m\u001b[43m(\u001b[49m\u001b[43mresponse\u001b[49m\u001b[43m,\u001b[49m\u001b[43m \u001b[49m\u001b[43mendpoint\u001b[49m\u001b[43m)\u001b[49m\n\u001b[1;32m    591\u001b[0m response_to_parse \u001b[38;5;241m=\u001b[39m response\u001b[38;5;241m.\u001b[39mtext\n\u001b[1;32m    592\u001b[0m \u001b[38;5;28;01mtry\u001b[39;00m:\n",
            "File \u001b[0;32m/anaconda/envs/azureml_py310_sdkv2/lib/python3.10/site-packages/mlflow/utils/rest_utils.py:310\u001b[0m, in \u001b[0;36mverify_rest_response\u001b[0;34m(response, endpoint)\u001b[0m\n\u001b[1;32m    305\u001b[0m     \u001b[38;5;28;01melse\u001b[39;00m:\n\u001b[1;32m    306\u001b[0m         base_msg \u001b[38;5;241m=\u001b[39m (\n\u001b[1;32m    307\u001b[0m             \u001b[38;5;124mf\u001b[39m\u001b[38;5;124m\"\u001b[39m\u001b[38;5;124mAPI request to endpoint \u001b[39m\u001b[38;5;132;01m{\u001b[39;00mendpoint\u001b[38;5;132;01m}\u001b[39;00m\u001b[38;5;124m \u001b[39m\u001b[38;5;124m\"\u001b[39m\n\u001b[1;32m    308\u001b[0m             \u001b[38;5;124mf\u001b[39m\u001b[38;5;124m\"\u001b[39m\u001b[38;5;124mfailed with error code \u001b[39m\u001b[38;5;132;01m{\u001b[39;00mresponse\u001b[38;5;241m.\u001b[39mstatus_code\u001b[38;5;132;01m}\u001b[39;00m\u001b[38;5;124m != 200\u001b[39m\u001b[38;5;124m\"\u001b[39m\n\u001b[1;32m    309\u001b[0m         )\n\u001b[0;32m--> 310\u001b[0m         \u001b[38;5;28;01mraise\u001b[39;00m MlflowException(\n\u001b[1;32m    311\u001b[0m             \u001b[38;5;124mf\u001b[39m\u001b[38;5;124m\"\u001b[39m\u001b[38;5;132;01m{\u001b[39;00mbase_msg\u001b[38;5;132;01m}\u001b[39;00m\u001b[38;5;124m. Response body: \u001b[39m\u001b[38;5;124m'\u001b[39m\u001b[38;5;132;01m{\u001b[39;00mresponse\u001b[38;5;241m.\u001b[39mtext\u001b[38;5;132;01m}\u001b[39;00m\u001b[38;5;124m'\u001b[39m\u001b[38;5;124m\"\u001b[39m,\n\u001b[1;32m    312\u001b[0m             error_code\u001b[38;5;241m=\u001b[39mget_error_code(response\u001b[38;5;241m.\u001b[39mstatus_code),\n\u001b[1;32m    313\u001b[0m         )\n\u001b[1;32m    315\u001b[0m \u001b[38;5;66;03m# Skip validation for endpoints (e.g. DBFS file-download API) which may return a non-JSON\u001b[39;00m\n\u001b[1;32m    316\u001b[0m \u001b[38;5;66;03m# response\u001b[39;00m\n\u001b[1;32m    317\u001b[0m \u001b[38;5;28;01mif\u001b[39;00m endpoint\u001b[38;5;241m.\u001b[39mstartswith(_REST_API_PATH_PREFIX) \u001b[38;5;129;01mand\u001b[39;00m \u001b[38;5;129;01mnot\u001b[39;00m _can_parse_as_json_object(response\u001b[38;5;241m.\u001b[39mtext):\n",
            "\u001b[0;31mMlflowException\u001b[0m: API request to endpoint /api/2.0/mlflow/logged-models/search failed with error code 404 != 200. Response body: ''"
          ]
        }
      ],
      "execution_count": 14,
      "metadata": {
        "gather": {
          "logged": 1758672071109
        }
      }
    }
  ],
  "metadata": {
    "kernelspec": {
      "name": "python310-sdkv2",
      "language": "python",
      "display_name": "Python 3.10 - SDK v2"
    },
    "language_info": {
      "name": "python",
      "version": "3.10.18",
      "mimetype": "text/x-python",
      "codemirror_mode": {
        "name": "ipython",
        "version": 3
      },
      "pygments_lexer": "ipython3",
      "nbconvert_exporter": "python",
      "file_extension": ".py"
    },
    "microsoft": {
      "ms_spell_check": {
        "ms_spell_check_language": "en"
      },
      "host": {
        "AzureML": {
          "notebookHasBeenCompleted": true
        }
      }
    },
    "nteract": {
      "version": "nteract-front-end@1.0.0"
    },
    "kernel_info": {
      "name": "python310-sdkv2"
    }
  },
  "nbformat": 4,
  "nbformat_minor": 2
}